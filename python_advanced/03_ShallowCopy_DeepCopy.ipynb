{
 "cells": [
  {
   "cell_type": "markdown",
   "metadata": {},
   "source": [
    "## Shallow Copy, Deep Copy\n",
    "#### 객체의 복사 종류: Copy, Shallow Copy, Deep Copy\n",
    "#### 정확한 이해 후 사용 -> 프로그래밍 개발 중요(문제 발생 요소)\n",
    "#### 가변: list, set, dict\n",
    "#### 불변: 나머지"
   ]
  },
  {
   "cell_type": "markdown",
   "metadata": {},
   "source": [
    "### Copy\n",
    "#### list의 경우에는 주소값(IP) 복사"
   ]
  },
  {
   "cell_type": "code",
   "execution_count": 1,
   "metadata": {},
   "outputs": [
    {
     "name": "stdout",
     "output_type": "stream",
     "text": [
      "Ex1 >  2311807129216\n",
      "Ex1 >  2311807129216\n",
      "Ex1 >  [1, 2, 100, [4, 5, 6], [7, 8, 9]]\n",
      "Ex1 >  [1, 2, 100, [4, 5, 6], [7, 8, 9]]\n",
      "Ex1 >  [1, 2, 100, [4, 5, 100], [7, 8, 9]]\n",
      "Ex1 >  [1, 2, 100, [4, 5, 100], [7, 8, 9]]\n"
     ]
    }
   ],
   "source": [
    "# Ex1 - Copy\n",
    "# Call by value, Call by Refference, Call by Share\n",
    "\n",
    "a_list = [1, 2, 3, [4, 5, 6], [7, 8, 9]] # mutable\n",
    "b_list = a_list\n",
    "\n",
    "print('Ex1 > ', id(a_list))\n",
    "print('Ex1 > ', id(b_list))\n",
    "\n",
    "b_list[2] = 100\n",
    "\n",
    "print('Ex1 > ', a_list)\n",
    "print('Ex1 > ', b_list)\n",
    "\n",
    "b_list[3][2] = 100\n",
    "\n",
    "print('Ex1 > ', a_list)\n",
    "print('Ex1 > ', b_list)\n",
    "\n",
    "# immutable : int, str 변경 불가\n"
   ]
  },
  {
   "cell_type": "markdown",
   "metadata": {},
   "source": [
    "#### list는 mutable형이기 때문에 주의해서 사용해야 함\n",
    "#### immutable(int, str, float, bool, unicode..), mutable형에 대하여 정확하게 알고 사용할 것"
   ]
  },
  {
   "cell_type": "markdown",
   "metadata": {},
   "source": [
    "### Shallow Copy\n",
    "#### 얕은 카피 -> [안]에 있는 [내부 가변형]까지 주소가 다르게 할당되지는 않음\n",
    "#### import copy를 임포트 후 사용"
   ]
  },
  {
   "cell_type": "code",
   "execution_count": 2,
   "metadata": {},
   "outputs": [
    {
     "name": "stdout",
     "output_type": "stream",
     "text": [
      "Ex2 >  2311807859392\n",
      "Ex2 >  2311807962432\n",
      "Ex2 >  [1, 2, 3, [4, 5, 6], [7, 8, 9]]\n",
      "Ex2 >  [1, 100, 3, [4, 5, 6], [7, 8, 9]]\n",
      "Ex2 >  [1, 2, 3, [4, 5, 6, 1000], [7, 10000, 9]]\n",
      "Ex2 >  [1, 100, 3, [4, 5, 6, 1000], [7, 10000, 9]]\n"
     ]
    }
   ],
   "source": [
    "# Ex2 - Shallow Copy\n",
    "\n",
    "import copy\n",
    "\n",
    "c_list = [1, 2, 3, [4, 5, 6], [7, 8, 9]]\n",
    "d_list = copy.copy(c_list) \n",
    "\n",
    "print('Ex2 > ', id(c_list))\n",
    "print('Ex2 > ', id(d_list))\n",
    "\n",
    "# print('Ex2 > ', id(c_list[3]))\n",
    "# print('Ex2 > ', id(d_list[3]))\n",
    "\n",
    "d_list[1] = 100\n",
    "\n",
    "print('Ex2 > ', c_list)\n",
    "print('Ex2 > ', d_list) # d list만 변경됨\n",
    "\n",
    "d_list[3].append(1000)\n",
    "d_list[4][1] = 10000\n",
    "\n",
    "print('Ex2 > ', c_list)\n",
    "print('Ex2 > ', d_list)\n"
   ]
  },
  {
   "cell_type": "markdown",
   "metadata": {},
   "source": [
    "#### 데이터 보호 차원에서 원본을 백업해 놓고, 사본을 사용할 때는 Shallow Copy 사용\n",
    "#### copy.copy -> id값 다름\n",
    "#### 아까와 다르게 주소값 참조가 다르기 때문에 d 리스트만 변경된 것을 알 수 있음\n",
    "#### 그런데 얕은 복사는 *밖의 주소값은 서로 다르*지만 *내부 리스트의 주소값을 서로 공유*하고 있기 때문에 d_list에 1000을 넣었는데도 c_list에 반영됨. (둘 다 변경됨)\n",
    "#### 즉, 얕은 복사는 해당 가변형 객체 \"안\"에 있는 객체까지도 다른 주소로 할당하지는 않음. \"안\"에 있는 리스트는 같은 주소값을 복사해 줌. - Call by reference\n",
    "#### 중첩 list, 중첩 set 이용할 때 주의해야 함"
   ]
  },
  {
   "cell_type": "markdown",
   "metadata": {},
   "source": [
    "### Deep Copy\n",
    "#### 안에 있는 것까지 값을 복사해 주는 깊은 복사"
   ]
  },
  {
   "cell_type": "code",
   "execution_count": 3,
   "metadata": {},
   "outputs": [
    {
     "name": "stdout",
     "output_type": "stream",
     "text": [
      "Ex3 >  2311807848064\n",
      "Ex3 >  2311807937088\n",
      "Ex3 >  [1, 2, 3, [4, 5, 6], [7, 8, 9]]\n",
      "Ex3 >  [1, 2, 3, [4, 5, 6, 1000], [7, 10000, 9]]\n"
     ]
    }
   ],
   "source": [
    "# Ex3 - Deep Copy\n",
    "\n",
    "e_list = [1, 2, 3, [4, 5, 6], [7, 8, 9]]\n",
    "f_list = copy.deepcopy(e_list) \n",
    "\n",
    "print('Ex3 > ', id(e_list))\n",
    "print('Ex3 > ', id(f_list))\n",
    "\n",
    "# print('Ex3 > ', id(e_list[3]))\n",
    "# print('Ex3 > ', id(f_list[3]))\n",
    "\n",
    "f_list[3].append(1000)\n",
    "f_list[4][1] = 10000\n",
    "\n",
    "print('Ex3 > ', e_list)\n",
    "print('Ex3 > ', f_list)"
   ]
  },
  {
   "cell_type": "markdown",
   "metadata": {},
   "source": [
    "#### deep copy는 copy.deepcopy를 호출함\n",
    "#### 어떤 copy를 사용할 건지 잘 판단하여 사용해야 함"
   ]
  }
 ],
 "metadata": {
  "kernelspec": {
   "display_name": "Python 3",
   "language": "python",
   "name": "python3"
  },
  "language_info": {
   "codemirror_mode": {
    "name": "ipython",
    "version": 3
   },
   "file_extension": ".py",
   "mimetype": "text/x-python",
   "name": "python",
   "nbconvert_exporter": "python",
   "pygments_lexer": "ipython3",
   "version": "3.8.5"
  }
 },
 "nbformat": 4,
 "nbformat_minor": 4
}
