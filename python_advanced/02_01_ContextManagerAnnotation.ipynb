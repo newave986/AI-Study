{
 "cells": [
  {
   "cell_type": "markdown",
   "metadata": {},
   "source": [
    "## Context Manager Annotation\n",
    "#### 실질적으로 class에서 이미 정해져 있는 메소드로 구현하고, 나중에는 annotation(@)로 조금 더 쉽게 구현할 수 있는 patch up이 되면서 항상 이런 패턴으로 발전됨. -> context library annotation을 이용해서 class 형태가 아닌 함수 형태로 이용해 보겠음\n",
    "#### Decorator 사용\n",
    "#### @contextlib.contextmanager, __enter__, __exit__\n",
    "#### Contextlib 데코레이터 사용 -> 코드 직관적, 예외 처리 용이함\n",
    "#### 코드의 가독성을 높이는 것도 중요!"
   ]
  },
  {
   "cell_type": "code",
   "execution_count": 2,
   "metadata": {},
   "outputs": [],
   "source": [
    "import contextlib\n",
    "import time"
   ]
  },
  {
   "cell_type": "code",
   "execution_count": 3,
   "metadata": {},
   "outputs": [],
   "source": [
    "# Ex1\n",
    "# Use decorator\n",
    "\n",
    "@contextlib.contextmanager # annotation 달아 줌\n",
    "def my_file_writer(file_name, method):\n",
    "    f = open(file_name, method) \n",
    "    # generator - 하나하나의 원소를 반환하고, \n",
    "    # 다음 위치를 기억하는 yield를 쓰면 내부적으로 여기서 with문 안으로 들어갔구나 한 다음 f를 리턴함.\n",
    "    yield f   # __enter__\n",
    "    f.close() # __exit__\n",
    "# 저번 시간에는 class 내부적으로 함수 형태를 취함. \n",
    "# 이번에는 그냥 함수이기 때문에 def 다음 줄부터 바로 enter로 침.\n",
    "# enter 구문에 해당하는 부분이 어디인지, exit가 어디인지 \n",
    "\n",
    "with my_file_writer('testfile4.txt', 'w') as f:\n",
    "    f.write('Context Manager Test4.\\nContextlib Test4.')"
   ]
  },
  {
   "cell_type": "markdown",
   "metadata": {},
   "source": [
    "#### yield f 하는 것이 __enter__(self) 구문이다.\n",
    "#### yield 다음에 쓰면 어떤 라인을 쓰든 __exit__가 됨.\n",
    "#### decorator 씀으로써 더 간단해진 코드\n",
    "### 예외 처리를 엄격하게 하겠다면 class 형태도 좋음\n",
    "#### 하지만 function 형태를 많이 쓰는 오픈소스가 많음"
   ]
  },
  {
   "cell_type": "code",
   "execution_count": 4,
   "metadata": {},
   "outputs": [
    {
     "name": "stdout",
     "output_type": "stream",
     "text": [
      "Received start monotonic2 : 16392.39\n",
      "Start! job: 0.3280000000013388 s\n"
     ]
    }
   ],
   "source": [
    "# Ex2\n",
    "# Use decorator\n",
    "\n",
    "@contextlib.contextmanager\n",
    "def ExcuteTimerDc(msg): # 함수 형태\n",
    "    start = time.monotonic()\n",
    "    try: #__enter__\n",
    "        yield start # 바로 start가 return됨\n",
    "    except BaseException as e:\n",
    "        print('Logging exception: {}: {}'.format(msg, e))\n",
    "        raise\n",
    "    else: #__exit__\n",
    "        print('{}: {} s'.format(msg, time.monotonic() - start))\n",
    "\n",
    "\n",
    "with ExcuteTimerDc(\"Start! job\") as v:\n",
    "    print('Received start monotonic2 : {}'.format(v))\n",
    "    # Excute job.\n",
    "    for i in range(10000000):\n",
    "        pass\n",
    "    # raise ValueError('occurred.')"
   ]
  },
  {
   "cell_type": "markdown",
   "metadata": {},
   "source": [
    "#### timer 만들기\n",
    "#### 코드의 양 줄어들고, 매우 간편하게 만들 수 있음\n",
    "#### yield --> 바로 enter\n",
    "#### 저번 같은 코드에서는 exit method에는 에러의 타입, 트레이스백까지 자세하게 확실히 알아낼 수 있음\n",
    "#### 이번 코드에서는 BaseException에서 처리할 수 있음"
   ]
  }
 ],
 "metadata": {
  "kernelspec": {
   "display_name": "Python 3",
   "language": "python",
   "name": "python3"
  },
  "language_info": {
   "codemirror_mode": {
    "name": "ipython",
    "version": 3
   },
   "file_extension": ".py",
   "mimetype": "text/x-python",
   "name": "python",
   "nbconvert_exporter": "python",
   "pygments_lexer": "ipython3",
   "version": "3.8.5"
  }
 },
 "nbformat": 4,
 "nbformat_minor": 4
}
