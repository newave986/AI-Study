{
 "cells": [
  {
   "cell_type": "markdown",
   "metadata": {},
   "source": [
    "### Context Manager\n",
    "#### Contextlib, __enter__, __exit__ (magic / special method), with 기능\n",
    "#### Context Manager: 원하는 타이밍에 정확하게 리소스를 할당 및 제공, 반환하는 역할\n",
    "#### 가장 대표적인 with 구문 이해 \n",
    "#### 정확한 이해 후 사용 프로그래밍 개발 중요(문제 발생 요소)"
   ]
  },
  {
   "cell_type": "code",
   "execution_count": 1,
   "metadata": {},
   "outputs": [],
   "source": [
    "# Ex1\n",
    "# No use with.\n",
    "\n",
    "file = open('./testfile1.txt', 'w')\n",
    "try:\n",
    "    file.write('Context Manager Test1.\\nContextlib Test1.')\n",
    "finally:\n",
    "    file.close()"
   ]
  },
  {
   "cell_type": "code",
   "execution_count": 2,
   "metadata": {},
   "outputs": [],
   "source": [
    "# Ex2\n",
    "# Use with.\n",
    "\n",
    "with open('testfile2.txt', 'w') as f:\n",
    "    f.write('Context Manager Test2.\\nContextlib Test2.')"
   ]
  },
  {
   "cell_type": "markdown",
   "metadata": {},
   "source": [
    "#### Ex1 & Ex2는 동일한 기능을 수행함\n",
    "#### Ex2는 finally .close()라고 굳이 종료시키지 않아도 자동적으로 반환함\n",
    "#### -> with문 안에 이미 반환하는 코드가 내장되어 있음\n",
    "#### 개인만의 with문 만들어낼 수 있음 -> 굳이 리소스의 반환까지 신경써 가면서 코딩하는 것이 아니라 단지 앞에 with라는 예약어를 붙이고 내부에서 함수가 수행되면서 내가 의도한 객체나 메소드를 안전하게 사용 가능\n",
    "#### \n",
    "#### 직접 with문을 만들어서 사용해 보기"
   ]
  },
  {
   "cell_type": "code",
   "execution_count": 4,
   "metadata": {},
   "outputs": [
    {
     "name": "stdout",
     "output_type": "stream",
     "text": [
      "MyFileWriter started : __init__\n",
      "MyFileWriter started : __enter__\n",
      "MyFileWriter started : __exit__\n"
     ]
    }
   ],
   "source": [
    "# Ex3\n",
    "# Use Class -> Context Manager with exception handling\n",
    "\n",
    "class MyFileWriter():\n",
    "    def __init__(self, file_name, method):\n",
    "        print('MyFileWriter started : __init__') # __init__ 메소드가 호출됨을 알려 줌\n",
    "        self.file_obj = open(file_name, method)\n",
    "        \n",
    "    def __enter__(self):\n",
    "        print('MyFileWriter started : __enter__')\n",
    "        return self.file_obj\n",
    "\n",
    "    def __exit__(self, exc_type, value, trace_back):\n",
    "        print('MyFileWriter started : __exit__')\n",
    "        if exc_type: # True가 있다는 것은 예외 발생 -> value, trace_back 같이 넘어옴\n",
    "            print(\"Logging exception {}\".format((exc_type, value, trace_back)))\n",
    "            # error가 발생했다는 것만 표현해 줌\n",
    "        self.file_obj.close() # 예외가 발생하지 않았으면 close()로 파일을 닫아 줌\n",
    "        \n",
    "\n",
    "with MyFileWriter('testfile3.txt', 'w') as f:\n",
    "    f.write('Context Manager Test3.\\nContextlib Test3.')"
   ]
  },
  {
   "cell_type": "markdown",
   "metadata": {},
   "source": [
    "#### Class 형태로 먼저 구현\n",
    "#### Ex2에서는 open 함수, Ex3에서는 내가 만든(커스터마이징한) MyFileWriter의 Class 함수임.\n",
    "#### __enter__, __exit__ 함수 안에 개발자가 원하는 것을 자유롭게 넣어서 호출할 수 있음. 쓰거나, 읽는 작업들을 마음대로 할 수 있음. \n",
    "#### with문만 붙여서 의도한 작업을 쉽게 가능함.\n",
    "#### open함수도 내부에서 __enter__, __exit__가 이용되어 close를 따로 코딩하지 않아도 자동적으로 실행됨."
   ]
  },
  {
   "cell_type": "markdown",
   "metadata": {},
   "source": [
    "#### \n",
    "#### Conextlib - Measure Execution(타이머) 클래스 실습 -> 수행 시간이 얼마나 걸리는지 만들어 볼 수 있음\n",
    "#### 어떤 메소드든 context manager에 넣으면 사용 가능"
   ]
  },
  {
   "cell_type": "code",
   "execution_count": 5,
   "metadata": {},
   "outputs": [
    {
     "name": "stdout",
     "output_type": "stream",
     "text": [
      "Received start monotonic1 : 708506.437\n",
      "Start! job: 0.4839999999385327 s\n"
     ]
    }
   ],
   "source": [
    "# Ex4\n",
    "# Use Class\n",
    "\n",
    "import time\n",
    "\n",
    "class ExcuteTimerCls(object):\n",
    "    def __init__(self, msg):\n",
    "        self._msg = msg\n",
    "\n",
    "    def __enter__(self):\n",
    "        self._start = time.monotonic()\n",
    "        return self._start\n",
    "\n",
    "    def __exit__(self, exc_type, exc_value, exc_traceback):\n",
    "        if exc_type:\n",
    "            print(\"Logging exception {}\".format((exc_type, exc_value, exc_traceback)))\n",
    "        else:\n",
    "            print('{}: {} s'.format(self._msg, time.monotonic() - self._start))\n",
    "        return True # True\n",
    "\n",
    "with ExcuteTimerCls(\"Start! job\") as v:\n",
    "    print('Received start monotonic1 : {}'.format(v))\n",
    "    # Excute job.\n",
    "    for i in range(10000000):\n",
    "        pass\n",
    "    # raise Exception(\"Raise! Exception.\") # 강제로 발생"
   ]
  },
  {
   "cell_type": "markdown",
   "metadata": {},
   "source": [
    "#### Context Manager은 __enter__와 __exit__로 구현"
   ]
  }
 ],
 "metadata": {
  "kernelspec": {
   "display_name": "Python 3",
   "language": "python",
   "name": "python3"
  },
  "language_info": {
   "codemirror_mode": {
    "name": "ipython",
    "version": 3
   },
   "file_extension": ".py",
   "mimetype": "text/x-python",
   "name": "python",
   "nbconvert_exporter": "python",
   "pygments_lexer": "ipython3",
   "version": "3.8.5"
  }
 },
 "nbformat": 4,
 "nbformat_minor": 4
}
