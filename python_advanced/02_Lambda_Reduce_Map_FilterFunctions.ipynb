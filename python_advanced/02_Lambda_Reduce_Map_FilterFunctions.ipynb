{
 "cells": [
  {
   "cell_type": "markdown",
   "metadata": {},
   "source": [
    "## Lambda, Reduce, Map, Filter Functions\n",
    "\n",
    "#### 데이터 분석에서 시퀀스 데이터를 많이 사용함. 이런 것들은 분야에 상관없이, handling을 하는데 이때에 많이 사용함.\n",
    "#### 2중 for문 등 -> 오늘 설명을 통해 조금 더 짧게 만들 수 있다."
   ]
  },
  {
   "cell_type": "markdown",
   "metadata": {},
   "source": [
    "#### Keyword - lambda, reduce, map, filter\n",
    "### lambda\n",
    "#### [lambda] 장점: 익명, 힙 영역 사용 시 즉시 소멸 -> *메모리 소멸 가능*, 파이썬 가비지 컬렉션(Count=0)\n",
    "#### 일반 함수: 재사용성을 위해 메모리 저장 <-> lambda는 저장되지 않으므로 일회용으로 사용할 때 유용함\n",
    "#### [시퀀스형 잔처리]에 Reduce, Map, Filter 주로 사용함."
   ]
  },
  {
   "cell_type": "code",
   "execution_count": 1,
   "metadata": {},
   "outputs": [
    {
     "name": "stdout",
     "output_type": "stream",
     "text": [
      "Ex1 > 170\n"
     ]
    }
   ],
   "source": [
    "# Ex1\n",
    "cul = lambda a, b, c: a * b + c\n",
    "\n",
    "print('Ex1 >', cul(10, 15, 20))"
   ]
  },
  {
   "cell_type": "markdown",
   "metadata": {},
   "source": [
    "### map\n",
    "#### 각각 리스트에 있는 모든 원소들을 내가 지정한 것으로 iterable하게 객체로 넘겨 주는 것\n",
    "#### 내부적으로 next() 사용하여 넘겨 줌"
   ]
  },
  {
   "cell_type": "code",
   "execution_count": 3,
   "metadata": {},
   "outputs": [
    {
     "name": "stdout",
     "output_type": "stream",
     "text": [
      "Ex2 > [10, 20, 30, 40, 50, 60, 70, 80, 90, 100]\n",
      "Ex2 > [100, 400, 900, 1600, 2500, 3600, 4900, 6400, 8100, 10000]\n",
      "Ex2 > [100, 400, 900, 1600, 2500, 3600, 4900, 6400, 8100, 10000]\n"
     ]
    }
   ],
   "source": [
    "# Ex2\n",
    "digits1 = [x * 10 for x in range(1, 11)]\n",
    "print('Ex2 >', digits1)\n",
    "\n",
    "def ex2_func(x):\n",
    "    return x **2\n",
    "\n",
    "# result = list(map(ex2_func , digits))\n",
    "result = list(map(lambda i: i ** 2 , digits1))\n",
    "\n",
    "print('Ex2 >', result)\n",
    "\n",
    "def also_square(nums):\n",
    "    def double(x):\n",
    "        return x ** 2\n",
    "    return map(double, nums)\n",
    "# ㄴ 모듈화하여 실행도 가능함\n",
    "\n",
    "print('Ex2 >', list(also_square(digits1)))"
   ]
  },
  {
   "cell_type": "markdown",
   "metadata": {},
   "source": [
    "#### map 함수는 2개의 인자 받음 \n",
    "#### 리스트를 순회하면서 특정한 함수를 통해 결괏값을 도출하겠다 -> map 함수를 사용함.\n",
    "#### *요소의 특정 함수를 통하여 결괏값을 도출해낼 때 쓰는 함수*\n",
    "#### iterable함\n",
    "#### 람다 함수가 없다면, lambda 대신에 double이라는 함수를 사용함 (-> 기명 함수이므로 재사용성 있다고 간주됨, garbage collection 이용하여 정제되지 않음 --> 한 번 쓸 거면 lambda 이용하는 게 좋다)"
   ]
  },
  {
   "cell_type": "markdown",
   "metadata": {},
   "source": [
    "### filter\n",
    "#### 원하지 않는 값은 거르고, 원하는 값만 걸러서 내가 원하는 형태(list, tuple..)로 만드는 함수"
   ]
  },
  {
   "cell_type": "code",
   "execution_count": 4,
   "metadata": {},
   "outputs": [
    {
     "name": "stdout",
     "output_type": "stream",
     "text": [
      "Ex3 > [2, 4, 6, 8, 10]\n",
      "Ex3 > [2, 4, 6, 8, 10]\n"
     ]
    }
   ],
   "source": [
    "# Ex3\n",
    "digits2 = [1, 2, 3, 4, 5, 6, 7, 8, 9, 10]\n",
    "\n",
    "result = list(filter(lambda x: x % 2 == 0, digits2))\n",
    "\n",
    "print('Ex3 >', result)\n",
    "\n",
    "def also_evens(nums):\n",
    "    def is_even(x):\n",
    "        return x % 2 == 0\n",
    "    return filter(is_even, nums)\n",
    "\n",
    "print('Ex3 >', list(also_evens(digits2)))"
   ]
  },
  {
   "cell_type": "markdown",
   "metadata": {},
   "source": [
    "#### filter 안의 함수가 True/False 값으로 나와야 함\n",
    "#### also_events: list 자료형(iterable)한 자료형만 넣으면 언제든 재사용할 수 있음"
   ]
  },
  {
   "cell_type": "markdown",
   "metadata": {},
   "source": [
    "### reduce\n",
    "#### 시퀀스형 데이터에서 누적으로 어떤 더하기, 합계를 구할 때 주로 사용. 문자열을 더할 때도 사용.\n",
    "#### 숫자가 아닌 문자열/데이터로 시퀀스를 뽑아낼 수 있음\n",
    "#### reduce 함수는 python 3.0부터 내장 함수가 아닌 import 함수가 됨\n",
    "#### from functools import reduce로 함수 가져오기"
   ]
  },
  {
   "cell_type": "code",
   "execution_count": 7,
   "metadata": {},
   "outputs": [
    {
     "name": "stdout",
     "output_type": "stream",
     "text": [
      "Ex4 > 5050\n",
      "Ex3 > 5050\n"
     ]
    }
   ],
   "source": [
    "# Ex4\n",
    "from functools import reduce\n",
    "\n",
    "digits3 = [x for x in range(1, 101)]\n",
    "\n",
    "result = reduce(lambda x, y: x+y, digits3) # digits3의 누적 합계를 구함\n",
    "\n",
    "print('Ex4 >', result)\n",
    "\n",
    "def also_add(nums):\n",
    "    def add_plus(x, y):\n",
    "        return x + y\n",
    "    return reduce(add_plus, nums)\n",
    "\n",
    "print('Ex3 >', also_add(digits3))"
   ]
  },
  {
   "cell_type": "markdown",
   "metadata": {},
   "source": [
    "#### reduce 함수는 결괏값이 list가 아니라 코드에서 지정해 놓은 변수로 출력"
   ]
  }
 ],
 "metadata": {
  "kernelspec": {
   "display_name": "Python 3",
   "language": "python",
   "name": "python3"
  },
  "language_info": {
   "codemirror_mode": {
    "name": "ipython",
    "version": 3
   },
   "file_extension": ".py",
   "mimetype": "text/x-python",
   "name": "python",
   "nbconvert_exporter": "python",
   "pygments_lexer": "ipython3",
   "version": "3.8.5"
  }
 },
 "nbformat": 4,
 "nbformat_minor": 4
}
