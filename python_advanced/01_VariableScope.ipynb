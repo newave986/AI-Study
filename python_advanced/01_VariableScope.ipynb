{
 "cells": [
  {
   "cell_type": "markdown",
   "metadata": {},
   "source": [
    "# Variable Scope\n",
    "#### Scope\n",
    "#### Global\n",
    "#### Nonlocal\n",
    "#### Locals\n",
    "#### Globals"
   ]
  },
  {
   "cell_type": "markdown",
   "metadata": {},
   "source": [
    "#### ---------------------\n",
    "#### 전역변수: 주로 변하지 않는 고정 값에 사용\n",
    "#### 지역변수: 지역변수는 함수 내에 로직 해결에 국한, 소멸 주기: 함수 실행 해제 시 \n",
    "#### 전역 변수를 지역 내에서 수정되는 것은 권장하지 않음 -> 지역 변수를 합하는 기법 등을 사용함. (변수를 너무 산발적으로 사용하여 메모리를 잡아먹지는 않았는지 스스로 제고해 보는 태도가 필요함)"
   ]
  },
  {
   "cell_type": "code",
   "execution_count": null,
   "metadata": {},
   "outputs": [],
   "source": [
    "# Ex1\n",
    "a = 10 # Global variable\n",
    "\n",
    "def foo():\n",
    "    # Read global variable\n",
    "    print('Ex1 > ', a) # 전역변수에 있는 것은 지역변수로 쓸 수 있음\n",
    "\n",
    "foo()\n",
    "# Read global variable\n",
    "print('Ex1 > ', a) "
   ]
  },
  {
   "cell_type": "markdown",
   "metadata": {},
   "source": [
    "#### Global Variable은 안/밖에서 모두 읽을 수 있다."
   ]
  },
  {
   "cell_type": "code",
   "execution_count": 2,
   "metadata": {},
   "outputs": [
    {
     "name": "stdout",
     "output_type": "stream",
     "text": [
      "Ex2 >  30\n",
      "Ex2 >  20\n"
     ]
    }
   ],
   "source": [
    "# Ex2\n",
    "b = 20\n",
    "\n",
    "def bar():\n",
    "    b = 30              # Local variable\n",
    "    print('Ex2 > ', b)  # Read local variable\n",
    "\n",
    "bar() \n",
    "\n",
    "print('Ex2 > ', b)      # Read global variable"
   ]
  },
  {
   "cell_type": "markdown",
   "metadata": {},
   "source": [
    "#### python은 변수를 찾을 때 *scope 안*에서 먼저 찾음.\n",
    "#### 따라서 bar() 안에서는 local variable을 읽어서 30 출력함."
   ]
  },
  {
   "cell_type": "code",
   "execution_count": 4,
   "metadata": {},
   "outputs": [
    {
     "name": "stdout",
     "output_type": "stream",
     "text": [
      "Ex3 >  40\n"
     ]
    }
   ],
   "source": [
    "# Ex3\n",
    "c = 40\n",
    "\n",
    "def foobar():\n",
    "    # (1) c = c + 10   # UnboundLocalError\n",
    "    # (2) c = 10\n",
    "    # (3) c += 100\n",
    "                 \n",
    "    print('Ex3 > ', c)          \n",
    "\n",
    "foobar()        "
   ]
  },
  {
   "cell_type": "markdown",
   "metadata": {},
   "source": [
    "#### UnboundedLocalError: 참조 에러 발생\n",
    "#### 전역에 있는 값을 지역에서 '특정한 명령어 없이' 수정할 수 없다.\n",
    "#### (1) (2) (3) 모두 안 됨."
   ]
  },
  {
   "cell_type": "code",
   "execution_count": 3,
   "metadata": {},
   "outputs": [
    {
     "name": "stdout",
     "output_type": "stream",
     "text": [
      "Ex4 >  60\n",
      "Ex4 >  60\n"
     ]
    }
   ],
   "source": [
    "# Ex4\n",
    "d = 50\n",
    "def barfoo():\n",
    "    global d     \n",
    "                 \n",
    "    d = 60       \n",
    "    print('Ex4 > ', d)\n",
    "\n",
    "barfoo()    \n",
    "\n",
    "print('Ex4 > ', d)         # Prints 5. Global variable d was modified within barfoo()"
   ]
  },
  {
   "cell_type": "markdown",
   "metadata": {},
   "source": [
    "## global \n",
    "#### *global*이라는 예약어로 지역에서 전역 변수를 수정할 수 있음. \n",
    "#### -> *global*이라는 예약어를 통해 읽기뿐 아니라 쓰기도 가능함."
   ]
  },
  {
   "cell_type": "code",
   "execution_count": 5,
   "metadata": {},
   "outputs": [
    {
     "name": "stdout",
     "output_type": "stream",
     "text": [
      "Ex5 >  80\n",
      "Ex5 >  90\n"
     ]
    }
   ],
   "source": [
    "# Ex5(중요)\n",
    "def outer():\n",
    "    e = 70 # 지역 변수\n",
    "    def inner():\n",
    "        nonlocal e    \n",
    "        e += 10 \n",
    "        # nonlocal 없이 e = e + 10 -> 지역변수 수정 안 됨\n",
    "        print('Ex5 > ', e)\n",
    "    return inner\n",
    "\n",
    "in_test = outer() # Closure\n",
    "\n",
    "in_test()         \n",
    "in_test()         "
   ]
  },
  {
   "cell_type": "markdown",
   "metadata": {},
   "source": [
    "#### ㄴ 클로저-함수에서 함수를 리턴-, 데코레이터 패턴\n",
    "#### e -> outer 안에 있는 local variable\n",
    "#### inner -> outer 안에 있는 하위 scope\n",
    "## nonlocal\n",
    "#### [지역 변수 아래에 하위의 지역 scope가 있을 때] 상위 지역 변수의 값을 modify할 때는 *nonlocal*이라는 예약어를 붙이고 선언해 주어야 함\n",
    "#### 쓰지 않으면 closure 함수 안에서 변수의 수정 불가능함\n",
    "#### \n",
    "#### 원래는 함수가 다 끝난 후에는 그 함수 안의 지역변수가 소멸되어야 하는데 위 예제에서는 계속 가지고 있음. closure의 특성.\n"
   ]
  },
  {
   "cell_type": "code",
   "execution_count": 1,
   "metadata": {},
   "outputs": [
    {
     "name": "stdout",
     "output_type": "stream",
     "text": [
      "Func Inner {'var': 'Hi', 'x': 10, 'printer': <function func.<locals>.printer at 0x00000240675555E0>}\n"
     ]
    }
   ],
   "source": [
    "# Ex6\n",
    "def func(var): \n",
    "    x = 10 \n",
    "    def printer(): # 지역 scope\n",
    "        print('Ex5 > ', \"Printer Func Inner\") \n",
    "    print('Func Inner', locals()) # 지역 전체 출력\n",
    "\n",
    "func(\"Hi\")"
   ]
  },
  {
   "cell_type": "markdown",
   "metadata": {},
   "source": [
    "### locals 함수: 지역 전체 출력\n",
    "#### 지역 scope 안에 x, printer라는 함수를 가지고 있음.\n",
    "#### *locals*라는 함수를 호출하면 지역 안에 있는 변수들을 알 수 있음."
   ]
  },
  {
   "cell_type": "code",
   "execution_count": 4,
   "metadata": {},
   "outputs": [
    {
     "name": "stdout",
     "output_type": "stream",
     "text": [
      "Ex7 > {'__name__': '__main__', '__doc__': 'Automatically created module for IPython interactive environment', '__package__': None, '__loader__': None, '__spec__': None, '__builtin__': <module 'builtins' (built-in)>, '__builtins__': <module 'builtins' (built-in)>, '_ih': ['', '# Ex6\\ndef func(var): \\n    x = 10 \\n    def printer(): # 지역 scope\\n        print(\\'Ex5 > \\', \"Printer Func Inner\") \\n    print(\\'Func Inner\\', locals()) # 지역 전체 출력\\n\\nfunc(\"Hi\")', \"# Ex7\\nprint('Ex7 >', globals()) # 전역 전체 출력\\nglobals()['test_variable'] = 100\\nprint('Ex7 >', globals())\", \"# Ex7\\nprint('Ex7 >', globals()) # 전역 전체 출력\\nglobals()['test_variable'] = 100\\nprint('Ex7 >', globals())\", \"# Ex7\\nprint('Ex7 >', globals()) # 전역 전체 출력\\nglobals()['test_variable'] = 100\\nprint('Ex7 >', globals())\"], '_oh': {}, '_dh': ['C:\\\\Users\\\\redem\\\\Desktop\\\\폴더\\\\2021 상반기\\\\[스터디] 머신러닝 스터디\\\\1) 파이썬 고급 inflearn'], 'In': ['', '# Ex6\\ndef func(var): \\n    x = 10 \\n    def printer(): # 지역 scope\\n        print(\\'Ex5 > \\', \"Printer Func Inner\") \\n    print(\\'Func Inner\\', locals()) # 지역 전체 출력\\n\\nfunc(\"Hi\")', \"# Ex7\\nprint('Ex7 >', globals()) # 전역 전체 출력\\nglobals()['test_variable'] = 100\\nprint('Ex7 >', globals())\", \"# Ex7\\nprint('Ex7 >', globals()) # 전역 전체 출력\\nglobals()['test_variable'] = 100\\nprint('Ex7 >', globals())\", \"# Ex7\\nprint('Ex7 >', globals()) # 전역 전체 출력\\nglobals()['test_variable'] = 100\\nprint('Ex7 >', globals())\"], 'Out': {}, 'get_ipython': <bound method InteractiveShell.get_ipython of <ipykernel.zmqshell.ZMQInteractiveShell object at 0x00000240674A4A00>>, 'exit': <IPython.core.autocall.ZMQExitAutocall object at 0x00000240675194F0>, 'quit': <IPython.core.autocall.ZMQExitAutocall object at 0x00000240675194F0>, '_': '', '__': '', '___': '', '_i': \"# Ex7\\nprint('Ex7 >', globals()) # 전역 전체 출력\\nglobals()['test_variable'] = 100\\nprint('Ex7 >', globals())\", '_ii': \"# Ex7\\nprint('Ex7 >', globals()) # 전역 전체 출력\\nglobals()['test_variable'] = 100\\nprint('Ex7 >', globals())\", '_iii': '# Ex6\\ndef func(var): \\n    x = 10 \\n    def printer(): # 지역 scope\\n        print(\\'Ex5 > \\', \"Printer Func Inner\") \\n    print(\\'Func Inner\\', locals()) # 지역 전체 출력\\n\\nfunc(\"Hi\")', '_i1': '# Ex6\\ndef func(var): \\n    x = 10 \\n    def printer(): # 지역 scope\\n        print(\\'Ex5 > \\', \"Printer Func Inner\") \\n    print(\\'Func Inner\\', locals()) # 지역 전체 출력\\n\\nfunc(\"Hi\")', 'func': <function func at 0x00000240675558B0>, '_i2': \"# Ex7\\nprint('Ex7 >', globals()) # 전역 전체 출력\\nglobals()['test_variable'] = 100\\nprint('Ex7 >', globals())\", 'test_variable': 100, '_i3': \"# Ex7\\nprint('Ex7 >', globals()) # 전역 전체 출력\\nglobals()['test_variable'] = 100\\nprint('Ex7 >', globals())\", '_i4': \"# Ex7\\nprint('Ex7 >', globals()) # 전역 전체 출력\\nglobals()['test_variable'] = 100\\nprint('Ex7 >', globals())\"}\n",
      "Ex7 > {'__name__': '__main__', '__doc__': 'Automatically created module for IPython interactive environment', '__package__': None, '__loader__': None, '__spec__': None, '__builtin__': <module 'builtins' (built-in)>, '__builtins__': <module 'builtins' (built-in)>, '_ih': ['', '# Ex6\\ndef func(var): \\n    x = 10 \\n    def printer(): # 지역 scope\\n        print(\\'Ex5 > \\', \"Printer Func Inner\") \\n    print(\\'Func Inner\\', locals()) # 지역 전체 출력\\n\\nfunc(\"Hi\")', \"# Ex7\\nprint('Ex7 >', globals()) # 전역 전체 출력\\nglobals()['test_variable'] = 100\\nprint('Ex7 >', globals())\", \"# Ex7\\nprint('Ex7 >', globals()) # 전역 전체 출력\\nglobals()['test_variable'] = 100\\nprint('Ex7 >', globals())\", \"# Ex7\\nprint('Ex7 >', globals()) # 전역 전체 출력\\nglobals()['test_variable'] = 100\\nprint('Ex7 >', globals())\"], '_oh': {}, '_dh': ['C:\\\\Users\\\\redem\\\\Desktop\\\\폴더\\\\2021 상반기\\\\[스터디] 머신러닝 스터디\\\\1) 파이썬 고급 inflearn'], 'In': ['', '# Ex6\\ndef func(var): \\n    x = 10 \\n    def printer(): # 지역 scope\\n        print(\\'Ex5 > \\', \"Printer Func Inner\") \\n    print(\\'Func Inner\\', locals()) # 지역 전체 출력\\n\\nfunc(\"Hi\")', \"# Ex7\\nprint('Ex7 >', globals()) # 전역 전체 출력\\nglobals()['test_variable'] = 100\\nprint('Ex7 >', globals())\", \"# Ex7\\nprint('Ex7 >', globals()) # 전역 전체 출력\\nglobals()['test_variable'] = 100\\nprint('Ex7 >', globals())\", \"# Ex7\\nprint('Ex7 >', globals()) # 전역 전체 출력\\nglobals()['test_variable'] = 100\\nprint('Ex7 >', globals())\"], 'Out': {}, 'get_ipython': <bound method InteractiveShell.get_ipython of <ipykernel.zmqshell.ZMQInteractiveShell object at 0x00000240674A4A00>>, 'exit': <IPython.core.autocall.ZMQExitAutocall object at 0x00000240675194F0>, 'quit': <IPython.core.autocall.ZMQExitAutocall object at 0x00000240675194F0>, '_': '', '__': '', '___': '', '_i': \"# Ex7\\nprint('Ex7 >', globals()) # 전역 전체 출력\\nglobals()['test_variable'] = 100\\nprint('Ex7 >', globals())\", '_ii': \"# Ex7\\nprint('Ex7 >', globals()) # 전역 전체 출력\\nglobals()['test_variable'] = 100\\nprint('Ex7 >', globals())\", '_iii': '# Ex6\\ndef func(var): \\n    x = 10 \\n    def printer(): # 지역 scope\\n        print(\\'Ex5 > \\', \"Printer Func Inner\") \\n    print(\\'Func Inner\\', locals()) # 지역 전체 출력\\n\\nfunc(\"Hi\")', '_i1': '# Ex6\\ndef func(var): \\n    x = 10 \\n    def printer(): # 지역 scope\\n        print(\\'Ex5 > \\', \"Printer Func Inner\") \\n    print(\\'Func Inner\\', locals()) # 지역 전체 출력\\n\\nfunc(\"Hi\")', 'func': <function func at 0x00000240675558B0>, '_i2': \"# Ex7\\nprint('Ex7 >', globals()) # 전역 전체 출력\\nglobals()['test_variable'] = 100\\nprint('Ex7 >', globals())\", 'test_variable': 100, '_i3': \"# Ex7\\nprint('Ex7 >', globals()) # 전역 전체 출력\\nglobals()['test_variable'] = 100\\nprint('Ex7 >', globals())\", '_i4': \"# Ex7\\nprint('Ex7 >', globals()) # 전역 전체 출력\\nglobals()['test_variable'] = 100\\nprint('Ex7 >', globals())\"}\n"
     ]
    }
   ],
   "source": [
    "# Ex7\n",
    "print('Ex7 >', globals()) # 전역 전체 출력\n",
    "globals()['test_variable'] = 100\n",
    "print('Ex7 >', globals())"
   ]
  },
  {
   "cell_type": "markdown",
   "metadata": {},
   "source": [
    "### globals 함수: 전역 전체 출력\n",
    "#### globals는 우리가 선언했던, 우리가 수업하면서 선언했던 모든 함수들(전역)이 출력됨.\n",
    "#### test_variable = 100이라고 선언 ->\n",
    "#### 내부적으로는 globals()['test_variable'] = 100 라고 실행됨 (내부 원리)"
   ]
  },
  {
   "cell_type": "code",
   "execution_count": 7,
   "metadata": {},
   "outputs": [
    {
     "name": "stdout",
     "output_type": "stream",
     "text": [
      "8\n",
      "18\n"
     ]
    }
   ],
   "source": [
    "# Ex8(지역 -> 전역 변수 작성)\n",
    "for i in range(1, 10): \n",
    "    for k in range(1, 10): \n",
    "        globals()['plus_{}_{}'.format(i, k)] = i + k \n",
    "        \n",
    "# print(globals())\n",
    "# 'plus_1_1': 2, 'plus_1_2': 3, 'plus_1_3': 4, 'plus_1_4': 5, 'plus_1_5': 6, 'plus_1_6': 7, 'plus_1_7': 8, 'plus_1_8': 9, 'plus_1_9': 10, 'plus_2_1': 3, 'plus_2_2': 4, 'plus_2_3': 5, 'plus_2_4': 6, 'plus_2_5': 7, 'plus_2_6': 8, 'plus_2_7': 9, 'plus_2_8': 10, 'plus_2_9': 11, 'plus_3_1': 4, 'plus_3_2': 5, 'plus_3_3': 6, 'plus_3_4': 7, 'plus_3_5': 8, 'plus_3_6': 9, 'plus_3_7': 10, 'plus_3_8': 11, 'plus_3_9': 12, 'plus_4_1': 5, 'plus_4_2': 6, 'plus_4_3': 7, 'plus_4_4': 8, 'plus_4_5': 9, 'plus_4_6': 10, 'plus_4_7': 11, 'plus_4_8': 12, 'plus_4_9': 13, 'plus_5_1': 6, 'plus_5_2': 7, 'plus_5_3': 8, 'plus_5_4': 9, 'plus_5_5': 10, 'plus_5_6': 11, 'plus_5_7': 12, 'plus_5_8': 13, 'plus_5_9': 14, 'plus_6_1': 7, 'plus_6_2': 8, 'plus_6_3': 9, 'plus_6_4': 10, 'plus_6_5': 11, 'plus_6_6': 12, 'plus_6_7': 13, 'plus_6_8': 14, 'plus_6_9': 15, 'plus_7_1': 8, 'plus_7_2': 9, 'plus_7_3': 10, 'plus_7_4': 11, 'plus_7_5': 12, 'plus_7_6': 13, 'plus_7_7': 14, 'plus_7_8': 15, 'plus_7_9': 16, 'plus_8_1': 9, 'plus_8_2': 10, 'plus_8_3': 11, 'plus_8_4': 12, 'plus_8_5': 13, 'plus_8_6': 14, 'plus_8_7': 15, 'plus_8_8': 16, 'plus_8_9': 17, 'plus_9_1': 10, 'plus_9_2': 11, 'plus_9_3': 12, 'plus_9_4': 13, 'plus_9_5': 14, 'plus_9_6': 15, 'plus_9_7': 16, 'plus_9_8': 17, 'plus_9_9': 18, '_i6': \"# Ex8(지역 -> 전역 변수 작성)\\nfor i in range(1, 10): \\n    for k in range(1, 10): \\n        globals()['plus_{}_{}'.format(i, k)] = i + k \\nprint(globals())\\nprint(plus_3_5) \\nprint(plus_9_9)\"}\n",
    "# 모두 globals에 저장됨\n",
    "\n",
    "print(plus_3_5) \n",
    "print(plus_9_9)"
   ]
  },
  {
   "cell_type": "markdown",
   "metadata": {},
   "source": [
    "#### 변수를 다량으로 만들고 싶을 때:\n",
    "#### globals라는 함수를 사용하면 변수를 만들 수 있음\n",
    "#### ex8처럼 동적으로 전역 변수를 만들 수 있음"
   ]
  }
 ],
 "metadata": {
  "kernelspec": {
   "display_name": "Python 3",
   "language": "python",
   "name": "python3"
  },
  "language_info": {
   "codemirror_mode": {
    "name": "ipython",
    "version": 3
   },
   "file_extension": ".py",
   "mimetype": "text/x-python",
   "name": "python",
   "nbconvert_exporter": "python",
   "pygments_lexer": "ipython3",
   "version": "3.8.5"
  }
 },
 "nbformat": 4,
 "nbformat_minor": 4
}
