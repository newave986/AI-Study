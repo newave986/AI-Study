{
 "cells": [
  {
   "cell_type": "code",
   "execution_count": 1,
   "id": "stretch-liechtenstein",
   "metadata": {},
   "outputs": [],
   "source": [
    "import numpy as np\n",
    "\n",
    "a = np.random.randn(5)"
   ]
  },
  {
   "cell_type": "code",
   "execution_count": 2,
   "id": "logical-climate",
   "metadata": {},
   "outputs": [
    {
     "name": "stdout",
     "output_type": "stream",
     "text": [
      "[-0.4092916  -0.4168144   0.30903535  0.11729999  1.32594015]\n"
     ]
    }
   ],
   "source": [
    "print(a)"
   ]
  },
  {
   "cell_type": "code",
   "execution_count": 3,
   "id": "handy-lesson",
   "metadata": {},
   "outputs": [
    {
     "name": "stdout",
     "output_type": "stream",
     "text": [
      "(5,)\n"
     ]
    }
   ],
   "source": [
    "print(a.shape)"
   ]
  },
  {
   "cell_type": "code",
   "execution_count": 4,
   "id": "uniform-violation",
   "metadata": {},
   "outputs": [
    {
     "name": "stdout",
     "output_type": "stream",
     "text": [
      "[-0.4092916  -0.4168144   0.30903535  0.11729999  1.32594015]\n"
     ]
    }
   ],
   "source": [
    "print(a.T)"
   ]
  },
  {
   "cell_type": "code",
   "execution_count": 5,
   "id": "cellular-tenant",
   "metadata": {},
   "outputs": [
    {
     "name": "stdout",
     "output_type": "stream",
     "text": [
      "2.208633281354735\n"
     ]
    }
   ],
   "source": [
    "print(np.dot(a, a.T))"
   ]
  },
  {
   "cell_type": "markdown",
   "id": "spectacular-enterprise",
   "metadata": {},
   "source": [
    "np.random.randn(1, 5) \n",
    "→ a.shape = (1, 5) *Row Vector*"
   ]
  },
  {
   "cell_type": "code",
   "execution_count": 11,
   "id": "former-sunday",
   "metadata": {},
   "outputs": [
    {
     "name": "stdout",
     "output_type": "stream",
     "text": [
      "[[-1.62844931  0.676116   -0.66697405 -0.49834746  1.62227211]]\n"
     ]
    }
   ],
   "source": [
    "a = np.random.randn(1, 5)\n",
    "\n",
    "print(a)"
   ]
  },
  {
   "cell_type": "code",
   "execution_count": 12,
   "id": "simplified-context",
   "metadata": {},
   "outputs": [
    {
     "name": "stdout",
     "output_type": "stream",
     "text": [
      "[[-1.62844931]\n",
      " [ 0.676116  ]\n",
      " [-0.66697405]\n",
      " [-0.49834746]\n",
      " [ 1.62227211]]\n"
     ]
    }
   ],
   "source": [
    "print(a.T)"
   ]
  },
  {
   "cell_type": "code",
   "execution_count": 13,
   "id": "instant-actress",
   "metadata": {},
   "outputs": [
    {
     "name": "stdout",
     "output_type": "stream",
     "text": [
      "[[6.43395139]]\n"
     ]
    }
   ],
   "source": [
    "print(np.dot(a, a.T))"
   ]
  },
  {
   "cell_type": "markdown",
   "id": "joint-facing",
   "metadata": {},
   "source": [
    "np.random.randn(5, 1) → a.shape = (5, 1) *Column Vector*"
   ]
  },
  {
   "cell_type": "code",
   "execution_count": 6,
   "id": "instant-physiology",
   "metadata": {},
   "outputs": [
    {
     "name": "stdout",
     "output_type": "stream",
     "text": [
      "[[-1.77550572]\n",
      " [-0.12762606]\n",
      " [ 0.81889886]\n",
      " [ 0.07998727]\n",
      " [ 0.30860801]]\n"
     ]
    }
   ],
   "source": [
    "a = np.random.randn(5, 1)\n",
    "print(a)"
   ]
  },
  {
   "cell_type": "code",
   "execution_count": 7,
   "id": "hungarian-edwards",
   "metadata": {},
   "outputs": [
    {
     "name": "stdout",
     "output_type": "stream",
     "text": [
      "[[-1.77550572 -0.12762606  0.81889886  0.07998727  0.30860801]]\n"
     ]
    }
   ],
   "source": [
    "print(a.T)"
   ]
  },
  {
   "cell_type": "code",
   "execution_count": 8,
   "id": "color-tomato",
   "metadata": {},
   "outputs": [
    {
     "name": "stdout",
     "output_type": "stream",
     "text": [
      "[[ 3.15242056  0.22660081 -1.45395961 -0.14201785 -0.54793529]\n",
      " [ 0.22660081  0.01628841 -0.10451284 -0.01020846 -0.03938643]\n",
      " [-1.45395961 -0.10451284  0.67059534  0.06550148  0.25271875]\n",
      " [-0.14201785 -0.01020846  0.06550148  0.00639796  0.02468471]\n",
      " [-0.54793529 -0.03938643  0.25271875  0.02468471  0.0952389 ]]\n"
     ]
    }
   ],
   "source": [
    "print(np.dot(a, a.T))"
   ]
  }
 ],
 "metadata": {
  "kernelspec": {
   "display_name": "Python 3",
   "language": "python",
   "name": "python3"
  },
  "language_info": {
   "codemirror_mode": {
    "name": "ipython",
    "version": 3
   },
   "file_extension": ".py",
   "mimetype": "text/x-python",
   "name": "python",
   "nbconvert_exporter": "python",
   "pygments_lexer": "ipython3",
   "version": "3.8.5"
  }
 },
 "nbformat": 4,
 "nbformat_minor": 5
}
