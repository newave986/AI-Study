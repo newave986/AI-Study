{
 "cells": [
  {
   "cell_type": "markdown",
   "metadata": {},
   "source": [
    "# CNN 실습 - MNIST DATA로\n",
    "#### 모두의 딥러닝 개정 2판 참고"
   ]
  },
  {
   "cell_type": "markdown",
   "metadata": {},
   "source": [
    "## 데이터 전처리"
   ]
  },
  {
   "cell_type": "code",
   "execution_count": 1,
   "metadata": {},
   "outputs": [],
   "source": [
    "from keras.datasets import mnist"
   ]
  },
  {
   "cell_type": "code",
   "execution_count": 33,
   "metadata": {},
   "outputs": [],
   "source": [
    "import numpy\n",
    "import tensorflow as tf"
   ]
  },
  {
   "cell_type": "markdown",
   "metadata": {},
   "source": [
    "seed 값을 설정함."
   ]
  },
  {
   "cell_type": "code",
   "execution_count": 34,
   "metadata": {},
   "outputs": [],
   "source": [
    "seed = 0\n",
    "numpy.random.seed(seed)\n",
    "tf.random.set_seed(3)"
   ]
  },
  {
   "cell_type": "markdown",
   "metadata": {},
   "source": [
    "kreas datasets에서 mnist 데이터를 불러온 후 확인함.\n",
    "\n",
    "- 학습에 사용될 부분: X_train, Y_class_train\n",
    "- 테스트에 사용될 부분: X_test, Y_class_test"
   ]
  },
  {
   "cell_type": "code",
   "execution_count": 3,
   "metadata": {},
   "outputs": [
    {
     "name": "stdout",
     "output_type": "stream",
     "text": [
      "Downloading data from https://storage.googleapis.com/tensorflow/tf-keras-datasets/mnist.npz\n",
      "11493376/11490434 [==============================] - 2s 0us/step\n"
     ]
    }
   ],
   "source": [
    "(X_train, Y_class_train), (X_test, Y_class_test) = mnist.load_data()"
   ]
  },
  {
   "cell_type": "code",
   "execution_count": 4,
   "metadata": {},
   "outputs": [
    {
     "name": "stdout",
     "output_type": "stream",
     "text": [
      "학습 셋 이미지 수: 60000 개\n",
      "테스트 셋 이미지 수: 10000 개\n"
     ]
    }
   ],
   "source": [
    "print(\"학습 셋 이미지 수: %d 개\"%(X_train.shape[0]))\n",
    "print(\"테스트 셋 이미지 수: %d 개\"%(X_test.shape[0]))"
   ]
  },
  {
   "cell_type": "markdown",
   "metadata": {},
   "source": [
    "불러온 이미지 중 한 개를 확인.\n",
    "\n",
    "- X_train[10]: 학습 데이터 세트 이미지의 10 번째 이미지를 출력하게 함\n",
    "- cmap = 'Greys' 옵션 이용하여 흑백으로 출력하게 함"
   ]
  },
  {
   "cell_type": "code",
   "execution_count": 7,
   "metadata": {},
   "outputs": [
    {
     "data": {
      "image/png": "[encoded data removed]",
      "text/plain": [
       "<Figure size 432x288 with 1 Axes>"
      ]
     },
     "metadata": {
      "needs_background": "light"
     },
     "output_type": "display_data"
    }
   ],
   "source": [
    "import matplotlib.pyplot as plt\n",
    "plt.imshow(X_train[10], cmap='Greys')\n",
    "plt.show()"
   ]
  },
  {
   "cell_type": "markdown",
   "metadata": {},
   "source": [
    "컴퓨터가 이 이미지를 인식하는 방법 확인.\n",
    "\n",
    "- 각 픽셀은 0 ~ 255로 수치화되어 인식됨. 흰색 배경은 0, 글씨가 들어간 곳은 흑백 정도에 따라 0 ~ 255까지 등급으로 확인됨."
   ]
  },
  {
   "cell_type": "code",
   "execution_count": 16,
   "metadata": {},
   "outputs": [
    {
     "name": "stdout",
     "output_type": "stream",
     "text": [
      "0\t0\t0\t0\t0\t0\t0\t0\t0\t0\t0\t0\t0\t0\t0\t0\t0\t0\t0\t0\t0\t0\t0\t0\t0\t0\t0\t0\t\n",
      "0\t0\t0\t0\t0\t0\t0\t0\t0\t0\t0\t0\t0\t0\t0\t0\t0\t0\t0\t0\t0\t0\t0\t0\t0\t0\t0\t0\t\n",
      "0\t0\t0\t0\t0\t0\t0\t0\t0\t0\t0\t0\t0\t0\t0\t0\t0\t0\t0\t0\t0\t0\t0\t0\t0\t0\t0\t0\t\n",
      "0\t0\t0\t0\t0\t0\t0\t0\t0\t0\t0\t0\t0\t0\t0\t0\t0\t0\t0\t0\t0\t0\t0\t0\t0\t0\t0\t0\t\n",
      "0\t0\t0\t0\t0\t0\t0\t0\t0\t0\t0\t42\t118\t219\t166\t118\t118\t6\t0\t0\t0\t0\t0\t0\t0\t0\t0\t0\t\n",
      "0\t0\t0\t0\t0\t0\t0\t0\t0\t0\t103\t242\t254\t254\t254\t254\t254\t66\t0\t0\t0\t0\t0\t0\t0\t0\t0\t0\t\n",
      "0\t0\t0\t0\t0\t0\t0\t0\t0\t0\t18\t232\t254\t254\t254\t254\t254\t238\t70\t0\t0\t0\t0\t0\t0\t0\t0\t0\t\n",
      "0\t0\t0\t0\t0\t0\t0\t0\t0\t0\t0\t104\t244\t254\t224\t254\t254\t254\t141\t0\t0\t0\t0\t0\t0\t0\t0\t0\t\n",
      "0\t0\t0\t0\t0\t0\t0\t0\t0\t0\t0\t0\t207\t254\t210\t254\t254\t254\t34\t0\t0\t0\t0\t0\t0\t0\t0\t0\t\n",
      "0\t0\t0\t0\t0\t0\t0\t0\t0\t0\t0\t0\t84\t206\t254\t254\t254\t254\t41\t0\t0\t0\t0\t0\t0\t0\t0\t0\t\n",
      "0\t0\t0\t0\t0\t0\t0\t0\t0\t0\t0\t0\t0\t24\t209\t254\t254\t254\t171\t0\t0\t0\t0\t0\t0\t0\t0\t0\t\n",
      "0\t0\t0\t0\t0\t0\t0\t0\t0\t0\t0\t0\t91\t137\t253\t254\t254\t254\t112\t0\t0\t0\t0\t0\t0\t0\t0\t0\t\n",
      "0\t0\t0\t0\t0\t0\t0\t0\t0\t0\t40\t214\t250\t254\t254\t254\t254\t254\t34\t0\t0\t0\t0\t0\t0\t0\t0\t0\t\n",
      "0\t0\t0\t0\t0\t0\t0\t0\t0\t0\t81\t247\t254\t254\t254\t254\t254\t254\t146\t0\t0\t0\t0\t0\t0\t0\t0\t0\t\n",
      "0\t0\t0\t0\t0\t0\t0\t0\t0\t0\t0\t110\t246\t254\t254\t254\t254\t254\t171\t0\t0\t0\t0\t0\t0\t0\t0\t0\t\n",
      "0\t0\t0\t0\t0\t0\t0\t0\t0\t0\t0\t0\t73\t89\t89\t93\t240\t254\t171\t0\t0\t0\t0\t0\t0\t0\t0\t0\t\n",
      "0\t0\t0\t0\t0\t0\t0\t0\t0\t0\t0\t0\t0\t0\t0\t1\t128\t254\t219\t31\t0\t0\t0\t0\t0\t0\t0\t0\t\n",
      "0\t0\t0\t0\t0\t0\t0\t0\t0\t0\t0\t0\t0\t0\t0\t7\t254\t254\t214\t28\t0\t0\t0\t0\t0\t0\t0\t0\t\n",
      "0\t0\t0\t0\t0\t0\t0\t0\t0\t0\t0\t0\t0\t0\t0\t138\t254\t254\t116\t0\t0\t0\t0\t0\t0\t0\t0\t0\t\n",
      "0\t0\t0\t0\t0\t0\t19\t177\t90\t0\t0\t0\t0\t0\t25\t240\t254\t254\t34\t0\t0\t0\t0\t0\t0\t0\t0\t0\t\n",
      "0\t0\t0\t0\t0\t0\t164\t254\t215\t63\t36\t0\t51\t89\t206\t254\t254\t139\t8\t0\t0\t0\t0\t0\t0\t0\t0\t0\t\n",
      "0\t0\t0\t0\t0\t0\t57\t197\t254\t254\t222\t180\t241\t254\t254\t253\t213\t11\t0\t0\t0\t0\t0\t0\t0\t0\t0\t0\t\n",
      "0\t0\t0\t0\t0\t0\t0\t140\t105\t254\t254\t254\t254\t254\t254\t236\t0\t0\t0\t0\t0\t0\t0\t0\t0\t0\t0\t0\t\n",
      "0\t0\t0\t0\t0\t0\t0\t0\t7\t117\t117\t165\t254\t254\t239\t50\t0\t0\t0\t0\t0\t0\t0\t0\t0\t0\t0\t0\t\n",
      "0\t0\t0\t0\t0\t0\t0\t0\t0\t0\t0\t0\t0\t0\t0\t0\t0\t0\t0\t0\t0\t0\t0\t0\t0\t0\t0\t0\t\n",
      "0\t0\t0\t0\t0\t0\t0\t0\t0\t0\t0\t0\t0\t0\t0\t0\t0\t0\t0\t0\t0\t0\t0\t0\t0\t0\t0\t0\t\n",
      "0\t0\t0\t0\t0\t0\t0\t0\t0\t0\t0\t0\t0\t0\t0\t0\t0\t0\t0\t0\t0\t0\t0\t0\t0\t0\t0\t0\t\n",
      "0\t0\t0\t0\t0\t0\t0\t0\t0\t0\t0\t0\t0\t0\t0\t0\t0\t0\t0\t0\t0\t0\t0\t0\t0\t0\t0\t0\t\n"
     ]
    }
   ],
   "source": [
    "import sys\n",
    "\n",
    "for x in X_train[10]:\n",
    "    for i in x:\n",
    "        sys.stdout.write('%d\\t' %i)\n",
    "    sys.stdout.write('\\n')"
   ]
  },
  {
   "cell_type": "markdown",
   "metadata": {},
   "source": [
    "이미지(속성을 담은 데이터)\n",
    "\n",
    "-> 숫자의 집합(학습 셋)\n",
    "\n",
    "-> 클래스 예측"
   ]
  },
  {
   "cell_type": "markdown",
   "metadata": {},
   "source": [
    "#### 2차원 배열을 1차원 배열로 변환\n",
    " - (28, 28)의 2차원 배열이므로 28 * 28 == 784의 1차원 배열으로 변환해 주어야 함\n",
    " - shape 함수 사용"
   ]
  },
  {
   "cell_type": "code",
   "execution_count": 17,
   "metadata": {},
   "outputs": [],
   "source": [
    "X_train = X_train.reshape(X_train.shape[0], 784)"
   ]
  },
  {
   "cell_type": "markdown",
   "metadata": {},
   "source": [
    "### 데이터 정규화(normalization)\n",
    "- 데이터의 폭이 클 때 적절한 값으로 분산의 정도를 바꾸는 과정\n",
    "\n",
    "#### 데이터를 0 ~ 1 사이의 값으로 변환 \n",
    "- keras는 데이터가 0에서 1사이의 값일 때 최적의 성능\n",
    "- 현재 데이터: 0 ~ 225 --> 바꿀 데이터: 0 ~ 1\n",
    "- 현재 데이터를 모두 225로 나눔\n",
    "- 데이터를 나누기 위해 정수형 데이터값을 실수형으로 변환 - astype() 함수 이용"
   ]
  },
  {
   "cell_type": "code",
   "execution_count": 20,
   "metadata": {},
   "outputs": [],
   "source": [
    "X_train = X_train.astype('float64')\n",
    "X_train = X_train / 255"
   ]
  },
  {
   "cell_type": "code",
   "execution_count": 21,
   "metadata": {},
   "outputs": [],
   "source": [
    "X_test = X_test.reshape(X_test.shape[0], 784).astype('float64')/255"
   ]
  },
  {
   "cell_type": "markdown",
   "metadata": {},
   "source": [
    "숫자 이미지에 매겨진 이름 확인"
   ]
  },
  {
   "cell_type": "code",
   "execution_count": 24,
   "metadata": {},
   "outputs": [
    {
     "name": "stdout",
     "output_type": "stream",
     "text": [
      "class : 3\n"
     ]
    }
   ],
   "source": [
    "print(\"class : %d\" % (Y_class_train[10]))"
   ]
  },
  {
   "cell_type": "markdown",
   "metadata": {},
   "source": [
    "### 원 핫 인코딩\n",
    "- 딥러닝 분류 문제에서는 원 핫 인코딩 방식 적용해야 함\n",
    "- 현재: 정수형 값 -> 바꿀 값: 0/1로만 이루어진 벡터값\n",
    "- 이 문제에서는 np_utils.to.categorical() 함수 이용\n",
    "\n",
    "#### 바이너리화"
   ]
  },
  {
   "cell_type": "code",
   "execution_count": 30,
   "metadata": {},
   "outputs": [],
   "source": [
    "from keras import utils as np_utils\n",
    "\n",
    "Y_train = np_utils.to_categorical(Y_class_train, 10)\n",
    "Y_test = np_utils.to_categorical(Y_class_test, 10)"
   ]
  },
  {
   "cell_type": "code",
   "execution_count": 31,
   "metadata": {},
   "outputs": [
    {
     "name": "stdout",
     "output_type": "stream",
     "text": [
      "[0. 0. 0. 1. 0. 0. 0. 0. 0. 0.]\n"
     ]
    }
   ],
   "source": [
    "print(Y_train[10])"
   ]
  },
  {
   "cell_type": "markdown",
   "metadata": {},
   "source": [
    "## 딥러닝 기본 프레임 제작"
   ]
  },
  {
   "cell_type": "markdown",
   "metadata": {},
   "source": [
    "입력 값 input_dim: 784개\n",
    "은닉층 hidden layer: 512 개\n",
    "출력 output: 10개\n",
    "\n",
    "- 활성화 함수 (은닉층): relu function\n",
    "- 최적화 함수: adam function\n",
    "- 오차 함수: categorical_Crossentropy function\n",
    "- 최적화 함수: adam"
   ]
  },
  {
   "cell_type": "code",
   "execution_count": 40,
   "metadata": {},
   "outputs": [],
   "source": [
    "from tensorflow.keras import layers\n",
    "\n",
    "model = keras.Sequential()\n",
    "model.add(layers.Dense(512, input_dim=784, activation='relu'))\n",
    "model.add(layers.Dense(10, activation='softmax'))"
   ]
  },
  {
   "cell_type": "code",
   "execution_count": 42,
   "metadata": {},
   "outputs": [],
   "source": [
    "model.compile(loss = 'categorical_crossentropy', optimizer='adam', metrics=['accuracy'])"
   ]
  },
  {
   "cell_type": "markdown",
   "metadata": {},
   "source": [
    "10회 이상 모델 성과 향상 없으면 자동 학습 중단"
   ]
  },
  {
   "cell_type": "code",
   "execution_count": 46,
   "metadata": {},
   "outputs": [],
   "source": [
    "import os\n",
    "from keras.callbacks import ModelCheckpoint,EarlyStopping\n",
    "\n",
    "MODEL_DIR = './model'\n",
    "if not os.path.exists(MODEL_DIR):\n",
    "    os.mkdir(MODEL_DIR)\n",
    "\n",
    "modelpath = './model/{epoch:02d}-{val_loss:.4f}.hdf5'\n",
    "checkpointer = ModelCheckpoint(filepath=modelpath, monitor='val_loss', verbose=1, save_best_only=True)\n",
    "early_stopping_callback = EarlyStopping(monitor='val_loss', patience=10)"
   ]
  },
  {
   "cell_type": "markdown",
   "metadata": {},
   "source": [
    "샘플 200개를 모두 40번 실행하게 설정\n",
    "\n",
    "테스트셋으로 최종 모델의 성과 측정 -> 값 출력"
   ]
  },
  {
   "cell_type": "code",
   "execution_count": 47,
   "metadata": {},
   "outputs": [
    {
     "name": "stdout",
     "output_type": "stream",
     "text": [
      "\n",
      "Epoch 00001: val_loss improved from inf to 0.14746, saving model to ./model\\01-0.1475.hdf5\n",
      "\n",
      "Epoch 00002: val_loss improved from 0.14746 to 0.10214, saving model to ./model\\02-0.1021.hdf5\n",
      "\n",
      "Epoch 00003: val_loss improved from 0.10214 to 0.08899, saving model to ./model\\03-0.0890.hdf5\n",
      "\n",
      "Epoch 00004: val_loss improved from 0.08899 to 0.07861, saving model to ./model\\04-0.0786.hdf5\n",
      "\n",
      "Epoch 00005: val_loss improved from 0.07861 to 0.07415, saving model to ./model\\05-0.0742.hdf5\n",
      "\n",
      "Epoch 00006: val_loss improved from 0.07415 to 0.06754, saving model to ./model\\06-0.0675.hdf5\n",
      "\n",
      "Epoch 00007: val_loss improved from 0.06754 to 0.06505, saving model to ./model\\07-0.0651.hdf5\n",
      "\n",
      "Epoch 00008: val_loss improved from 0.06505 to 0.06265, saving model to ./model\\08-0.0627.hdf5\n",
      "\n",
      "Epoch 00009: val_loss did not improve from 0.06265\n",
      "\n",
      "Epoch 00010: val_loss did not improve from 0.06265\n",
      "\n",
      "Epoch 00011: val_loss did not improve from 0.06265\n",
      "\n",
      "Epoch 00012: val_loss did not improve from 0.06265\n",
      "\n",
      "Epoch 00013: val_loss improved from 0.06265 to 0.05998, saving model to ./model\\13-0.0600.hdf5\n",
      "\n",
      "Epoch 00014: val_loss did not improve from 0.05998\n",
      "\n",
      "Epoch 00015: val_loss did not improve from 0.05998\n",
      "\n",
      "Epoch 00016: val_loss did not improve from 0.05998\n",
      "\n",
      "Epoch 00017: val_loss did not improve from 0.05998\n",
      "\n",
      "Epoch 00018: val_loss did not improve from 0.05998\n",
      "\n",
      "Epoch 00019: val_loss did not improve from 0.05998\n",
      "\n",
      "Epoch 00020: val_loss did not improve from 0.05998\n",
      "\n",
      "Epoch 00021: val_loss did not improve from 0.05998\n",
      "\n",
      "Epoch 00022: val_loss did not improve from 0.05998\n",
      "\n",
      "Epoch 00023: val_loss did not improve from 0.05998\n",
      "313/313 [==============================] - 0s 927us/step - loss: 0.0657 - accuracy: 0.9833\n",
      "\n",
      " Test Accuracy: 0.9833\n"
     ]
    }
   ],
   "source": [
    "history = model.fit(X_train, Y_train, validation_data=(X_test, Y_test), epochs=30, batch_size=200, verbose=0, callbacks=[early_stopping_callback,checkpointer])\n",
    " \n",
    "print(\"\\n Test Accuracy: %.4f\" % (model.evaluate(X_test, Y_test)[1]))"
   ]
  },
  {
   "cell_type": "markdown",
   "metadata": {},
   "source": [
    "학습 셋의 오차(1 - 정확도) 그래프 표현"
   ]
  },
  {
   "cell_type": "code",
   "execution_count": 48,
   "metadata": {},
   "outputs": [
    {
     "data": {
      "image/png": "[encoded data removed]",
      "text/plain": [
       "<Figure size 432x288 with 1 Axes>"
      ]
     },
     "metadata": {
      "needs_background": "light"
     },
     "output_type": "display_data"
    }
   ],
   "source": [
    "y_vloss = history.history['val_loss']\n",
    "\n",
    "y_loss = history.history['loss']\n",
    "\n",
    "x_len = numpy.arange(len(y_loss))\n",
    "plt.plot(x_len, y_vloss, marker = '.', c='red', label='Testset_loss')\n",
    "plt.plot(x_len, y_loss, marker = '.', c='blue', label='Trainset_loss')\n",
    "\n",
    "plt.legend(loc='upper right')\n",
    "plt.grid()\n",
    "plt.xlabel('epoch')\n",
    "plt.ylabel('loss')\n",
    "plt.show()"
   ]
  },
  {
   "cell_type": "markdown",
   "metadata": {},
   "source": [
    "## Convolutional Neural Network, CNN 이용"
   ]
  },
  {
   "cell_type": "markdown",
   "metadata": {},
   "source": [
    "### 컨볼루션 층 적용\n",
    "- keras에서 convolution 층 추가하는 함수: Conv2D()\n",
    "- 위 딥러닝 기본 셋 적용 부분을 컨볼루션 층으로 만들어 보자"
   ]
  },
  {
   "cell_type": "code",
   "execution_count": 64,
   "metadata": {},
   "outputs": [],
   "source": [
    "from tensorflow.keras.layers import Conv2D\n",
    "from tensorflow.keras import activations\n",
    "\n",
    "model = keras.Sequential()\n",
    "model.add(Conv2D(32, kernel_size=(3, 3), input_shape=(28, 28, 1), activation= 'relu'))"
   ]
  },
  {
   "cell_type": "markdown",
   "metadata": {},
   "source": [
    "컨볼루션 층 하나 더 추가~"
   ]
  },
  {
   "cell_type": "code",
   "execution_count": 66,
   "metadata": {},
   "outputs": [],
   "source": [
    "model.add(Conv2D(64, (3, 3), activation='relu'))"
   ]
  },
  {
   "cell_type": "markdown",
   "metadata": {},
   "source": [
    "### 풀링pooling (서브 샘플링sub sampling)\n",
    "- 컨볼루션 층을 통해 도출한 이미지 특징이 크고 복잡하면 다시 한번 축소하는 과정 거침\n",
    "- 이 과정을 풀링*plooing* 혹은 서브 샘플링*sub sampling* 이라고 함\n",
    "\n",
    "#### 맥스 풀링max pooling\n",
    "- 정해진 구역 안에서 최댓값을 뽑아냄\n",
    "\n",
    "#### 평균 풀링average pooling\n",
    "- 평균값을 뽑아냄"
   ]
  },
  {
   "cell_type": "code",
   "execution_count": 68,
   "metadata": {},
   "outputs": [],
   "source": [
    "from keras.layers import MaxPooling2D\n",
    "\n",
    "model.add(MaxPooling2D(pool_size=2))"
   ]
  },
  {
   "cell_type": "markdown",
   "metadata": {},
   "source": [
    "pool_size는 풀링 창의 크기를 정하는 것.\n",
    "\n",
    "2로 정하면 전체 크기가 절반(1/2)로 줄어든다."
   ]
  },
  {
   "cell_type": "markdown",
   "metadata": {},
   "source": [
    "### 드롭아웃drop out\n",
    "- 노드가 많아지거나 층이 많아진다고 해서 학습이 무조건 좋아지는 것이 아님. - 과적합\n",
    "- 은닉층에 배치된 노드 중 일부를 임의로 꺼 줌\n",
    "- 과적합 방지에 효과적"
   ]
  },
  {
   "cell_type": "markdown",
   "metadata": {},
   "source": [
    "25%의 노드를 끄려면 다음과 같이 코드 작성"
   ]
  },
  {
   "cell_type": "code",
   "execution_count": 71,
   "metadata": {},
   "outputs": [],
   "source": [
    "from keras.layers import Dropout\n",
    "\n",
    "model.add(Dropout(0.25))"
   ]
  },
  {
   "cell_type": "markdown",
   "metadata": {},
   "source": [
    "컨볼루션 층이나 맥스 풀링은 주어진 이미지를 2차원 배열인 채로 다루기 때문에 1차원 배열로 바꾸어야 함.\n",
    "\n",
    "Flatten() 함수는 2차원 배열을 1차원으로 바꿔 줌."
   ]
  },
  {
   "cell_type": "code",
   "execution_count": 72,
   "metadata": {},
   "outputs": [],
   "source": [
    "from keras.layers import Flatten\n",
    "\n",
    "model.add(Flatten())"
   ]
  },
  {
   "cell_type": "markdown",
   "metadata": {},
   "source": [
    "## 실행"
   ]
  },
  {
   "cell_type": "markdown",
   "metadata": {},
   "source": [
    "다음 실행은 전 코드와 같다."
   ]
  },
  {
   "cell_type": "code",
   "execution_count": 80,
   "metadata": {},
   "outputs": [],
   "source": [
    "model.add(layers.Dense(128, activation='relu'))\n",
    "model.add(Dropout(0.5))\n",
    "model.add(layers.Dense(10, activation='softmax'))"
   ]
  },
  {
   "cell_type": "code",
   "execution_count": 81,
   "metadata": {},
   "outputs": [],
   "source": [
    "model.compile(loss='categorical_crossentropy', optimizer='adam', metrics=['accuracy'])"
   ]
  },
  {
   "cell_type": "code",
   "execution_count": 82,
   "metadata": {},
   "outputs": [],
   "source": [
    "MODEL_DIR = './model/'\n",
    "if not os.path.exists(MODEL_DIR):\n",
    "    os.mkdir(MODEL_DIR)"
   ]
  },
  {
   "cell_type": "code",
   "execution_count": 83,
   "metadata": {},
   "outputs": [],
   "source": [
    "modelpath=\"./model/{epoch:02d}-{val_loss:.4f}.hdf5\"\n",
    "checkpointer = ModelCheckpoint(filepath=modelpath, monitor='val_loss', verbose=1, save_best_only=True)\n",
    "early_stopping_callback = EarlyStopping(monitor='val_loss', patience=10)"
   ]
  },
  {
   "cell_type": "code",
   "execution_count": 84,
   "metadata": {},
   "outputs": [
    {
     "name": "stdout",
     "output_type": "stream",
     "text": [
      "\n",
      "Epoch 00001: val_loss improved from inf to 0.16437, saving model to ./model\\01-0.1644.hdf5\n",
      "\n",
      "Epoch 00002: val_loss improved from 0.16437 to 0.09633, saving model to ./model\\02-0.0963.hdf5\n",
      "\n",
      "Epoch 00003: val_loss improved from 0.09633 to 0.07730, saving model to ./model\\03-0.0773.hdf5\n",
      "\n",
      "Epoch 00004: val_loss improved from 0.07730 to 0.05812, saving model to ./model\\04-0.0581.hdf5\n",
      "\n",
      "Epoch 00005: val_loss improved from 0.05812 to 0.05674, saving model to ./model\\05-0.0567.hdf5\n",
      "\n",
      "Epoch 00006: val_loss did not improve from 0.05674\n",
      "\n",
      "Epoch 00007: val_loss improved from 0.05674 to 0.04445, saving model to ./model\\07-0.0444.hdf5\n",
      "\n",
      "Epoch 00008: val_loss did not improve from 0.04445\n",
      "\n",
      "Epoch 00009: val_loss improved from 0.04445 to 0.03985, saving model to ./model\\09-0.0399.hdf5\n",
      "\n",
      "Epoch 00010: val_loss did not improve from 0.03985\n",
      "\n",
      "Epoch 00011: val_loss improved from 0.03985 to 0.03883, saving model to ./model\\11-0.0388.hdf5\n",
      "\n",
      "Epoch 00012: val_loss improved from 0.03883 to 0.03341, saving model to ./model\\12-0.0334.hdf5\n",
      "\n",
      "Epoch 00013: val_loss did not improve from 0.03341\n",
      "\n",
      "Epoch 00014: val_loss did not improve from 0.03341\n",
      "\n",
      "Epoch 00015: val_loss did not improve from 0.03341\n",
      "\n",
      "Epoch 00016: val_loss did not improve from 0.03341\n",
      "\n",
      "Epoch 00017: val_loss improved from 0.03341 to 0.02915, saving model to ./model\\17-0.0291.hdf5\n",
      "\n",
      "Epoch 00018: val_loss did not improve from 0.02915\n",
      "\n",
      "Epoch 00019: val_loss did not improve from 0.02915\n",
      "\n",
      "Epoch 00020: val_loss improved from 0.02915 to 0.02899, saving model to ./model\\20-0.0290.hdf5\n",
      "\n",
      "Epoch 00021: val_loss did not improve from 0.02899\n",
      "\n",
      "Epoch 00022: val_loss improved from 0.02899 to 0.02857, saving model to ./model\\22-0.0286.hdf5\n",
      "\n",
      "Epoch 00023: val_loss improved from 0.02857 to 0.02797, saving model to ./model\\23-0.0280.hdf5\n",
      "\n",
      "Epoch 00024: val_loss improved from 0.02797 to 0.02716, saving model to ./model\\24-0.0272.hdf5\n",
      "\n",
      "Epoch 00025: val_loss did not improve from 0.02716\n",
      "\n",
      "Epoch 00026: val_loss did not improve from 0.02716\n",
      "\n",
      "Epoch 00027: val_loss did not improve from 0.02716\n",
      "\n",
      "Epoch 00028: val_loss did not improve from 0.02716\n",
      "\n",
      "Epoch 00029: val_loss did not improve from 0.02716\n",
      "\n",
      "Epoch 00030: val_loss did not improve from 0.02716\n"
     ]
    }
   ],
   "source": [
    "history = model.fit(X_train, Y_train, validation_data=(X_test, Y_test), epochs=30, batch_size=200, verbose=0, callbacks=[early_stopping_callback,checkpointer])"
   ]
  },
  {
   "cell_type": "code",
   "execution_count": 87,
   "metadata": {},
   "outputs": [
    {
     "name": "stdout",
     "output_type": "stream",
     "text": [
      "313/313 [==============================] - 4s 13ms/step - loss: 0.0309 - accuracy: 0.9935 0s - loss:\n",
      "\n",
      " Test Accuracy: 0.9935\n"
     ]
    }
   ],
   "source": [
    "print(\"\\n Test Accuracy: %.4f\" % (model.evaluate(X_test, Y_test)[1]))"
   ]
  },
  {
   "cell_type": "code",
   "execution_count": 88,
   "metadata": {},
   "outputs": [],
   "source": [
    "y_vloss = history.history['val_loss']\n",
    "y_loss = history.history['loss']"
   ]
  },
  {
   "cell_type": "code",
   "execution_count": 92,
   "metadata": {},
   "outputs": [
    {
     "data": {
      "image/png": "[encoded data removed]",
      "text/plain": [
       "<Figure size 432x288 with 1 Axes>"
      ]
     },
     "metadata": {
      "needs_background": "light"
     },
     "output_type": "display_data"
    }
   ],
   "source": [
    "x_len = numpy.arange(len(y_loss))\n",
    "plt.plot(x_len, y_vloss, marker='.', c=\"red\", label='Testset_loss')\n",
    "plt.plot(x_len, y_loss, marker='.', c=\"blue\", label='Trainset_loss')\n",
    "plt.legend(loc='upper right')\n",
    "plt.grid()\n",
    "plt.xlabel('epoch')\n",
    "plt.ylabel('loss')\n",
    "plt.show()"
   ]
  }
 ],
 "metadata": {
  "kernelspec": {
   "display_name": "Python 3",
   "language": "python",
   "name": "python3"
  },
  "language_info": {
   "codemirror_mode": {
    "name": "ipython",
    "version": 3
   },
   "file_extension": ".py",
   "mimetype": "text/x-python",
   "name": "python",
   "nbconvert_exporter": "python",
   "pygments_lexer": "ipython3",
   "version": "3.8.5"
  }
 },
 "nbformat": 4,
 "nbformat_minor": 4
}
