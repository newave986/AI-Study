{
 "cells": [
  {
   "cell_type": "markdown",
   "id": "noted-issue",
   "metadata": {},
   "source": [
    "# Chapter 10-5. Advanced CNN (VGG)"
   ]
  },
  {
   "cell_type": "markdown",
   "id": "perfect-velvet",
   "metadata": {},
   "source": [
    "- making VGG network"
   ]
  },
  {
   "cell_type": "markdown",
   "id": "treated-spanish",
   "metadata": {},
   "source": [
    "## VGG-net\n",
    "Network made by Oxford VGG(Visual Geometry Group) </br>\n",
    "- vgg11 ~ vgg19 까지 만들 수 있음. 크기 다양함.\n",
    "- RGB 3x244x244 입력을 기준으로 제작됨.\n",
    "- 특징: 3byte로 구성됨."
   ]
  },
  {
   "cell_type": "markdown",
   "id": "extensive-cutting",
   "metadata": {},
   "source": [
    "---"
   ]
  },
  {
   "cell_type": "markdown",
   "id": "honey-dividend",
   "metadata": {},
   "source": [
    "## 기본 VGG net 만들고 나의 VGG 생성하기"
   ]
  },
  {
   "cell_type": "code",
   "execution_count": 1,
   "id": "exclusive-conducting",
   "metadata": {},
   "outputs": [],
   "source": [
    "import torch.nn as nn\n",
    "import torch.utils.model_zoo as model_zoo"
   ]
  },
  {
   "cell_type": "code",
   "execution_count": 2,
   "id": "fresh-charity",
   "metadata": {},
   "outputs": [],
   "source": [
    "__all__ = [\n",
    "    'VGG', 'vgg11', 'vgg11_bn', 'vgg13', 'vgg13_bn', 'vgg16', 'vgg16_bn',\n",
    "    'vgg19_bn', 'vgg19',\n",
    "]\n",
    "\n",
    "\n",
    "model_urls = {\n",
    "    'vgg11': 'https://download.pytorch.org/models/vgg11-bbd30ac9.pth',\n",
    "    'vgg13': 'https://download.pytorch.org/models/vgg13-c768596a.pth',\n",
    "    'vgg16': 'https://download.pytorch.org/models/vgg16-397923af.pth',\n",
    "    'vgg19': 'https://download.pytorch.org/models/vgg19-dcbb9e9d.pth',\n",
    "    'vgg11_bn': 'https://download.pytorch.org/models/vgg11_bn-6002323d.pth',\n",
    "    'vgg13_bn': 'https://download.pytorch.org/models/vgg13_bn-abd245e5.pth',\n",
    "    'vgg16_bn': 'https://download.pytorch.org/models/vgg16_bn-6c64b313.pth',\n",
    "    'vgg19_bn': 'https://download.pytorch.org/models/vgg19_bn-c79401a0.pth',\n",
    "}"
   ]
  },
  {
   "cell_type": "code",
   "execution_count": 3,
   "id": "neutral-candle",
   "metadata": {},
   "outputs": [],
   "source": [
    "class VGG(nn.Module):\n",
    "    def __init__(self, features, num_classes=1000, init_weights=True):\n",
    "        super(VGG, self).__init__()\n",
    "        \n",
    "        self.features = features #convolution\n",
    "        \n",
    "        self.avgpool = nn.AdaptiveAvgPool2d((7, 7))\n",
    "        \n",
    "        self.classifier = nn.Sequential(\n",
    "            nn.Linear(512 * 7 * 7, 4096),\n",
    "            nn.ReLU(True),\n",
    "            nn.Dropout(),\n",
    "            nn.Linear(4096, 4096),\n",
    "            nn.ReLU(True),\n",
    "            nn.Dropout(),\n",
    "            nn.Linear(4096, num_classes),\n",
    "        )# FC layer\n",
    "        \n",
    "        if init_weights:\n",
    "            self._initialize_weights()\n",
    "\n",
    "    def forward(self, x):\n",
    "        x = self.features(x) #Convolution \n",
    "        x = self.avgpool(x) # avgpool\n",
    "        x = x.view(x.size(0), -1) # 일렬로 쌓음\n",
    "        x = self.classifier(x) #FC layer\n",
    "        return x\n",
    "\n",
    "    def _initialize_weights(self):\n",
    "        for m in self.modules(): # 만약 m이 Conv2d일 때,\n",
    "            if isinstance(m, nn.Conv2d):\n",
    "                nn.init.kaiming_normal_(m.weight, mode='fan_out', nonlinearity='relu')\n",
    "                # ㄴ 우리가 어떤 activation 함수를 쓰느냐에 따라서 weight의 값을 잘 초기화를 할 수도 있다.\n",
    "                # 그에 맞춰서 \n",
    "                if m.bias is not None: # bias값을 0으로 초기화한다.\n",
    "                    nn.init.constant_(m.bias, 0)\n",
    "            elif isinstance(m, nn.BatchNorm2d): # BatchNorm일 경우에도 normalization\n",
    "                nn.init.constant_(m.weight, 1) # 전부 1\n",
    "                nn.init.constant_(m.bias, 0) # 전부 0\n",
    "            elif isinstance(m, nn.Linear):\n",
    "                nn.init.normal_(m.weight, 0, 0.01)\n",
    "                nn.init.constant_(m.bias, 0)"
   ]
  },
  {
   "cell_type": "markdown",
   "id": "lasting-rabbit",
   "metadata": {},
   "source": [
    "- __ init __ 함수는 features, num_classes, init_weights 세 개를 인자로 가짐.\n",
    "- classifier - FC layer들.\n",
    "- 가장 하단부에 FC layer 3개.\n",
    "- forward: Convolution 진행 부분, avgpool 진행한 이후에 일렬로 펼치고, FC layer 통과하여 최종 결과 도출\n",
    "- self.modules 했을 때는 features가 넘겨 줬던 레이어의 값을 하나씩 m에게 return. \n",
    "- m이 처음에는 convolution, convolution이 들어가게 되면 kaiming_normalization(필터값), nonlinearity는 relu라는 이야기 (다양한 activation function 집어넣을 수 있음.)"
   ]
  },
  {
   "cell_type": "markdown",
   "id": "embedded-cleaning",
   "metadata": {},
   "source": [
    "#### feature값을 어떻게 만들어서 넣어 줄 수 있느냐?가 중요한 부분\n",
    "1. make_layers\n",
    "2. cfg dictionary"
   ]
  },
  {
   "cell_type": "code",
   "execution_count": 4,
   "id": "frozen-surge",
   "metadata": {},
   "outputs": [],
   "source": [
    "# 'A': [64, 'M', 128, 'M', 256, 256, 'M', 512, 512, 'M', 512, 512, 'M']\n",
    "    \n",
    "def make_layers(cfg, batch_norm=False):\n",
    "    layers = []\n",
    "    in_channels = 3\n",
    "    \n",
    "    for v in cfg:\n",
    "        if v == 'M':\n",
    "            layers += [nn.MaxPool2d(kernel_size=2, stride=2)]\n",
    "        else:\n",
    "            conv2d = nn.Conv2d(in_channels, v, kernel_size=3, padding=1)\n",
    "            if batch_norm:\n",
    "                layers += [conv2d, nn.BatchNorm2d(v), nn.ReLU(inplace=True)]\n",
    "            else:\n",
    "                layers += [conv2d, nn.ReLU(inplace=True)]\n",
    "            in_channels = v # 중요\n",
    "                     \n",
    "    return nn.Sequential(*layers"
   ]
  },
  {
   "cell_type": "markdown",
   "id": "tutorial-aberdeen",
   "metadata": {},
   "source": [
    "하나의 Convolution layer 완성"
   ]
  },
  {
   "cell_type": "markdown",
   "id": "loved-spectacular",
   "metadata": {},
   "source": [
    "make_layers function: model = make_later(cfg['A'], batch_norm=False)을 확인해 보겠다는 이야기."
   ]
  },
  {
   "cell_type": "markdown",
   "id": "detailed-delight",
   "metadata": {},
   "source": [
    "for example) cfg == cfg['A'] 이고 v가 64일 때의 conv2d값 보기:  </br>\n",
    "> conv2d = nn.Conv2d(3, 64, kernel_size=3, padding=1)\n",
    "\n",
    "> list에 nn.ReLU(inplace=True) 추가\n",
    "\n",
    "그 다음 v가 'M'일 때: </br>\n",
    "> nn.MaxPool2d(kernel_size=2, stride=2)\n",
    "\n",
    "그 다음 값 v가 128 </br>\n",
    "> ###### in_channel 같은 경우에 64로 바뀌어서 64로 들어감. \n",
    "\n",
    "> conv2d = nn.Conv2d(64, 128, kernel_size=3, padding=1)\n",
    "\n",
    "> else: layers += [conv2d, nn.ReLU(inplace=True)] 들어감\n",
    "\n",
    "그 다음 v가 'M' </br>\n",
    "> nn.MaxPool2d(kernel_size=2, stride=2)\n",
    "\n",
    "그 다음 </br>\n",
    "> conv2d = nn.Conv2d(128, 256, kernel_size=3, padding=1)\n",
    "\n",
    "> nn.ReLu(inplace=True)\n",
    "\n",
    "그 다음 </br>\n",
    "> conv2d = nn.Conv2d(256, 256, kernel_size=3, padding=1)\n",
    "\n",
    "> nn.ReLu(inplace=True)\n",
    "\n",
    "그 다음 </br>\n",
    "> nn.MaxPool2d(kernel_size=2, stride=2) </br>\n",
    "conv2d = nn.Conv2d(256, 512, kernel_size=3, padding=1) </br>\n",
    "nn.ReLu(inplace=True) </br>\n",
    "conv2d = nn.Conv2d(512, 512, kernel_size=3, padding=1) </br>\n",
    "nn.ReLu(inplace=True) </br>\n",
    "nn.MaxPool2d(kernel_size=2, stride=2) </br>\n",
    "conv2d = nn.Conv2d(512, 512, kernel_size=3, padding=1) </br>\n",
    "nn.ReLu(inplace=True) </br>\n",
    "conv2d = nn.Conv2d(512, 512, kernel_size=3, padding=1) </br>\n",
    "nn.ReLu(inplace=True) </br>\n",
    "nn.MaxPool2d(kernel_size=2, stride=2)\n",
    "\n",
    "만약 True라고 가정을 하면: layer list에 if문의 layer값이 추가가 된다. (Conv2d) </br>\n",
    "\n",
    "만약 False라면: layer list에 else문의 layer값이 추가가 된다. (ReLU)"
   ]
  },
  {
   "cell_type": "markdown",
   "id": "accredited-sequence",
   "metadata": {},
   "source": [
    "- Convolution Layer가 8개가 되는가?"
   ]
  },
  {
   "cell_type": "code",
   "execution_count": 16,
   "id": "flexible-television",
   "metadata": {},
   "outputs": [],
   "source": [
    "conv = make_layers(cfg['A'])"
   ]
  },
  {
   "cell_type": "code",
   "execution_count": 17,
   "id": "communist-disclosure",
   "metadata": {},
   "outputs": [
    {
     "data": {
      "text/plain": [
       "Sequential(\n",
       "  (0): Conv2d(3, 64, kernel_size=(3, 3), stride=(1, 1), padding=(1, 1))\n",
       "  (1): ReLU(inplace=True)\n",
       "  (2): MaxPool2d(kernel_size=2, stride=2, padding=0, dilation=1, ceil_mode=False)\n",
       "  (3): Conv2d(64, 128, kernel_size=(3, 3), stride=(1, 1), padding=(1, 1))\n",
       "  (4): ReLU(inplace=True)\n",
       "  (5): MaxPool2d(kernel_size=2, stride=2, padding=0, dilation=1, ceil_mode=False)\n",
       "  (6): Conv2d(128, 256, kernel_size=(3, 3), stride=(1, 1), padding=(1, 1))\n",
       "  (7): ReLU(inplace=True)\n",
       "  (8): Conv2d(256, 256, kernel_size=(3, 3), stride=(1, 1), padding=(1, 1))\n",
       "  (9): ReLU(inplace=True)\n",
       "  (10): MaxPool2d(kernel_size=2, stride=2, padding=0, dilation=1, ceil_mode=False)\n",
       "  (11): Conv2d(256, 512, kernel_size=(3, 3), stride=(1, 1), padding=(1, 1))\n",
       "  (12): ReLU(inplace=True)\n",
       "  (13): Conv2d(512, 512, kernel_size=(3, 3), stride=(1, 1), padding=(1, 1))\n",
       "  (14): ReLU(inplace=True)\n",
       "  (15): MaxPool2d(kernel_size=2, stride=2, padding=0, dilation=1, ceil_mode=False)\n",
       "  (16): Conv2d(512, 512, kernel_size=(3, 3), stride=(1, 1), padding=(1, 1))\n",
       "  (17): ReLU(inplace=True)\n",
       "  (18): Conv2d(512, 512, kernel_size=(3, 3), stride=(1, 1), padding=(1, 1))\n",
       "  (19): ReLU(inplace=True)\n",
       "  (20): MaxPool2d(kernel_size=2, stride=2, padding=0, dilation=1, ceil_mode=False)\n",
       ")"
      ]
     },
     "execution_count": 17,
     "metadata": {},
     "output_type": "execute_result"
    }
   ],
   "source": [
    "conv"
   ]
  },
  {
   "cell_type": "markdown",
   "id": "cooperative-championship",
   "metadata": {},
   "source": [
    "- 위에서 이야기했던 logic가 똑같이 작동하는 것을 볼 수 있음"
   ]
  },
  {
   "cell_type": "markdown",
   "id": "recent-lincoln",
   "metadata": {},
   "source": [
    "*in_channels = v*라고 하는 것이 중요\n",
    "- 이유: nn.Conv2d 처리 후 채널 수가 64 채널로 변경됨.\n",
    "- 다음번 채널에서 64 채널을 받아야 하기 때문에, in_channel이 64로 바뀜.\n",
    "- 지금 layer의 값은 빈 레이어에 두 개가 들어갔기 때문에, nn.ReLU 값을 추가한 것이 layer"
   ]
  },
  {
   "cell_type": "code",
   "execution_count": 5,
   "id": "placed-dutch",
   "metadata": {},
   "outputs": [],
   "source": [
    "cfg = {\n",
    "    'A': [64, 'M', 128, 'M', 256, 256, 'M', 512, 512, 'M', 512, 512, 'M'], #8 + 3 =11 == vgg11\n",
    "    'B': [64, 64, 'M', 128, 128, 'M', 256, 256, 'M', 512, 512, 'M', 512, 512, 'M'], # 10 + 3 = vgg 13\n",
    "    'D': [64, 64, 'M', 128, 128, 'M', 256, 256, 256, 'M', 512, 512, 512, 'M', 512, 512, 512, 'M'], #13 + 3 = vgg 16\n",
    "    'E': [64, 64, 'M', 128, 128, 'M', 256, 256, 256, 256, 'M', 512, 512, 512, 512, 'M', 512, 512, 512, 512, 'M'], # 16 +3 =vgg 19\n",
    "    'custom' : [64,64,64,'M',128,128,128,'M',256,256,256,'M']\n",
    "}"
   ]
  },
  {
   "cell_type": "markdown",
   "id": "adjacent-calculation",
   "metadata": {},
   "source": [
    "cfg dictionary에는 A, B, D, E 들어가 있음 </br>\n",
    "이것에 맞춰서 make_layers 동작해 보기(이에 input을 받는 것도 A, B, D, E)"
   ]
  },
  {
   "cell_type": "code",
   "execution_count": 20,
   "id": "previous-diary",
   "metadata": {},
   "outputs": [],
   "source": [
    "conv = make_layers(cfg['custom'])"
   ]
  },
  {
   "cell_type": "code",
   "execution_count": 21,
   "id": "continuing-plate",
   "metadata": {},
   "outputs": [
    {
     "data": {
      "text/plain": [
       "Sequential(\n",
       "  (0): Conv2d(3, 64, kernel_size=(3, 3), stride=(1, 1), padding=(1, 1))\n",
       "  (1): ReLU(inplace=True)\n",
       "  (2): Conv2d(64, 64, kernel_size=(3, 3), stride=(1, 1), padding=(1, 1))\n",
       "  (3): ReLU(inplace=True)\n",
       "  (4): Conv2d(64, 64, kernel_size=(3, 3), stride=(1, 1), padding=(1, 1))\n",
       "  (5): ReLU(inplace=True)\n",
       "  (6): MaxPool2d(kernel_size=2, stride=2, padding=0, dilation=1, ceil_mode=False)\n",
       "  (7): Conv2d(64, 128, kernel_size=(3, 3), stride=(1, 1), padding=(1, 1))\n",
       "  (8): ReLU(inplace=True)\n",
       "  (9): Conv2d(128, 128, kernel_size=(3, 3), stride=(1, 1), padding=(1, 1))\n",
       "  (10): ReLU(inplace=True)\n",
       "  (11): Conv2d(128, 128, kernel_size=(3, 3), stride=(1, 1), padding=(1, 1))\n",
       "  (12): ReLU(inplace=True)\n",
       "  (13): MaxPool2d(kernel_size=2, stride=2, padding=0, dilation=1, ceil_mode=False)\n",
       "  (14): Conv2d(128, 256, kernel_size=(3, 3), stride=(1, 1), padding=(1, 1))\n",
       "  (15): ReLU(inplace=True)\n",
       "  (16): Conv2d(256, 256, kernel_size=(3, 3), stride=(1, 1), padding=(1, 1))\n",
       "  (17): ReLU(inplace=True)\n",
       "  (18): Conv2d(256, 256, kernel_size=(3, 3), stride=(1, 1), padding=(1, 1))\n",
       "  (19): ReLU(inplace=True)\n",
       "  (20): MaxPool2d(kernel_size=2, stride=2, padding=0, dilation=1, ceil_mode=False)\n",
       ")"
      ]
     },
     "execution_count": 21,
     "metadata": {},
     "output_type": "execute_result"
    }
   ],
   "source": [
    "conv"
   ]
  },
  {
   "cell_type": "markdown",
   "id": "external-salon",
   "metadata": {},
   "source": [
    "위 식에서 *batch_norm만 True*라고 설정 바꾸어 주기"
   ]
  },
  {
   "cell_type": "code",
   "execution_count": 18,
   "id": "conceptual-payroll",
   "metadata": {},
   "outputs": [],
   "source": [
    "conv = make_layers(cfg['custom'], batch_norm=True)"
   ]
  },
  {
   "cell_type": "code",
   "execution_count": 19,
   "id": "honey-isaac",
   "metadata": {},
   "outputs": [
    {
     "data": {
      "text/plain": [
       "Sequential(\n",
       "  (0): Conv2d(3, 64, kernel_size=(3, 3), stride=(1, 1), padding=(1, 1))\n",
       "  (1): BatchNorm2d(64, eps=1e-05, momentum=0.1, affine=True, track_running_stats=True)\n",
       "  (2): ReLU(inplace=True)\n",
       "  (3): Conv2d(64, 64, kernel_size=(3, 3), stride=(1, 1), padding=(1, 1))\n",
       "  (4): BatchNorm2d(64, eps=1e-05, momentum=0.1, affine=True, track_running_stats=True)\n",
       "  (5): ReLU(inplace=True)\n",
       "  (6): Conv2d(64, 64, kernel_size=(3, 3), stride=(1, 1), padding=(1, 1))\n",
       "  (7): BatchNorm2d(64, eps=1e-05, momentum=0.1, affine=True, track_running_stats=True)\n",
       "  (8): ReLU(inplace=True)\n",
       "  (9): MaxPool2d(kernel_size=2, stride=2, padding=0, dilation=1, ceil_mode=False)\n",
       "  (10): Conv2d(64, 128, kernel_size=(3, 3), stride=(1, 1), padding=(1, 1))\n",
       "  (11): BatchNorm2d(128, eps=1e-05, momentum=0.1, affine=True, track_running_stats=True)\n",
       "  (12): ReLU(inplace=True)\n",
       "  (13): Conv2d(128, 128, kernel_size=(3, 3), stride=(1, 1), padding=(1, 1))\n",
       "  (14): BatchNorm2d(128, eps=1e-05, momentum=0.1, affine=True, track_running_stats=True)\n",
       "  (15): ReLU(inplace=True)\n",
       "  (16): Conv2d(128, 128, kernel_size=(3, 3), stride=(1, 1), padding=(1, 1))\n",
       "  (17): BatchNorm2d(128, eps=1e-05, momentum=0.1, affine=True, track_running_stats=True)\n",
       "  (18): ReLU(inplace=True)\n",
       "  (19): MaxPool2d(kernel_size=2, stride=2, padding=0, dilation=1, ceil_mode=False)\n",
       "  (20): Conv2d(128, 256, kernel_size=(3, 3), stride=(1, 1), padding=(1, 1))\n",
       "  (21): BatchNorm2d(256, eps=1e-05, momentum=0.1, affine=True, track_running_stats=True)\n",
       "  (22): ReLU(inplace=True)\n",
       "  (23): Conv2d(256, 256, kernel_size=(3, 3), stride=(1, 1), padding=(1, 1))\n",
       "  (24): BatchNorm2d(256, eps=1e-05, momentum=0.1, affine=True, track_running_stats=True)\n",
       "  (25): ReLU(inplace=True)\n",
       "  (26): Conv2d(256, 256, kernel_size=(3, 3), stride=(1, 1), padding=(1, 1))\n",
       "  (27): BatchNorm2d(256, eps=1e-05, momentum=0.1, affine=True, track_running_stats=True)\n",
       "  (28): ReLU(inplace=True)\n",
       "  (29): MaxPool2d(kernel_size=2, stride=2, padding=0, dilation=1, ceil_mode=False)\n",
       ")"
      ]
     },
     "execution_count": 19,
     "metadata": {},
     "output_type": "execute_result"
    }
   ],
   "source": [
    "conv"
   ]
  },
  {
   "cell_type": "markdown",
   "id": "latin-banking",
   "metadata": {},
   "source": [
    "Conv2d + Batch 추가되어 있는 것 확인 가능"
   ]
  },
  {
   "cell_type": "markdown",
   "id": "practical-symbol",
   "metadata": {},
   "source": [
    "기존에 있는 torch vision에 있는 VGG를 내가 원하는 상태로 수정하여 사용 가능\n",
    "- 여기까지는 make_layer을 통해 layer을 쌓은 시퀀스를 출력하는 형태 본 것"
   ]
  },
  {
   "cell_type": "markdown",
   "id": "external-purse",
   "metadata": {},
   "source": [
    "#### 실재로 완성된 VGG는?"
   ]
  },
  {
   "cell_type": "markdown",
   "id": "placed-inquiry",
   "metadata": {},
   "source": [
    "(1) features라고 불리는 convolution layer을 make_layers 가지고 와서 만들면 됨. </br> \n",
    "     - 내가 만든 걸 넣고 싶다면 'custom' </br>\n",
    "(2) class가 10개이기 때문에 num_classes 10개 넣어 줌 </br>\n",
    "(3) init_weight같은 경우 True로 넣어 줌 </br>"
   ]
  },
  {
   "cell_type": "code",
   "execution_count": 22,
   "id": "guilty-charlotte",
   "metadata": {},
   "outputs": [],
   "source": [
    "CNN = VGG(make_layers(cfg['custom']), num_classes=10, init_weights=True)"
   ]
  },
  {
   "cell_type": "code",
   "execution_count": 8,
   "id": "atmospheric-discharge",
   "metadata": {},
   "outputs": [
    {
     "data": {
      "text/plain": [
       "VGG(\n",
       "  (features): Sequential(\n",
       "    (0): Conv2d(3, 64, kernel_size=(3, 3), stride=(1, 1), padding=(1, 1))\n",
       "    (1): ReLU(inplace=True)\n",
       "    (2): Conv2d(64, 64, kernel_size=(3, 3), stride=(1, 1), padding=(1, 1))\n",
       "    (3): ReLU(inplace=True)\n",
       "    (4): Conv2d(64, 64, kernel_size=(3, 3), stride=(1, 1), padding=(1, 1))\n",
       "    (5): ReLU(inplace=True)\n",
       "    (6): MaxPool2d(kernel_size=2, stride=2, padding=0, dilation=1, ceil_mode=False)\n",
       "    (7): Conv2d(64, 128, kernel_size=(3, 3), stride=(1, 1), padding=(1, 1))\n",
       "    (8): ReLU(inplace=True)\n",
       "    (9): Conv2d(128, 128, kernel_size=(3, 3), stride=(1, 1), padding=(1, 1))\n",
       "    (10): ReLU(inplace=True)\n",
       "    (11): Conv2d(128, 128, kernel_size=(3, 3), stride=(1, 1), padding=(1, 1))\n",
       "    (12): ReLU(inplace=True)\n",
       "    (13): MaxPool2d(kernel_size=2, stride=2, padding=0, dilation=1, ceil_mode=False)\n",
       "    (14): Conv2d(128, 256, kernel_size=(3, 3), stride=(1, 1), padding=(1, 1))\n",
       "    (15): ReLU(inplace=True)\n",
       "    (16): Conv2d(256, 256, kernel_size=(3, 3), stride=(1, 1), padding=(1, 1))\n",
       "    (17): ReLU(inplace=True)\n",
       "    (18): Conv2d(256, 256, kernel_size=(3, 3), stride=(1, 1), padding=(1, 1))\n",
       "    (19): ReLU(inplace=True)\n",
       "    (20): MaxPool2d(kernel_size=2, stride=2, padding=0, dilation=1, ceil_mode=False)\n",
       "  )\n",
       "  (avgpool): AdaptiveAvgPool2d(output_size=(7, 7))\n",
       "  (classifier): Sequential(\n",
       "    (0): Linear(in_features=25088, out_features=4096, bias=True)\n",
       "    (1): ReLU(inplace=True)\n",
       "    (2): Dropout(p=0.5, inplace=False)\n",
       "    (3): Linear(in_features=4096, out_features=4096, bias=True)\n",
       "    (4): ReLU(inplace=True)\n",
       "    (5): Dropout(p=0.5, inplace=False)\n",
       "    (6): Linear(in_features=4096, out_features=10, bias=True)\n",
       "  )\n",
       ")"
      ]
     },
     "execution_count": 8,
     "metadata": {},
     "output_type": "execute_result"
    }
   ],
   "source": [
    "CNN"
   ]
  },
  {
   "cell_type": "markdown",
   "id": "pediatric-proceeding",
   "metadata": {},
   "source": [
    "#### 결과\n",
    "- Sequence 모두 출력, 위에서 선언된 Classifier가 아래에 붙어 있는 것 확인 가능. \n",
    "- num_classes 10으로 수정했기 때문에 그 부분도 수정되어 있음.\n",
    "- Linear(in_features=4096, out_features=4096) 가 아닌 다른 크기의 이미지를 넣고 싶다면,\n",
    "    - 위 class VGG에 선언되어 있는 self.classifier 부분의 nn.Linear(512 * 7 * 7, 4096) 부분도 수정해 주어야 함.\n",
    "- 이 CNN 모델은 동작하지 않을 것\n",
    "    - custom은 Max Pooling 3번 진행, Max Pooling을 5번 진행한 A, B, D, E와는 size가 안 맞을 것.\n",
    "    - Max Pooling을 두 번 더 넣어 주거나, FC 부분의 nn.Linear 사이즈를 수정해 주면 정상 동작함."
   ]
  },
  {
   "cell_type": "markdown",
   "id": "tough-rocket",
   "metadata": {},
   "source": [
    "---"
   ]
  },
  {
   "cell_type": "markdown",
   "id": "offensive-armor",
   "metadata": {},
   "source": [
    "vgg의 기본 코드:\n",
    "https://pytorch.org/tutorials/beginner/blitz/cifar10_tutorial.html#sphx-glr-beginner-blitz-cifar10-tutorial-py"
   ]
  },
  {
   "cell_type": "markdown",
   "id": "manufactured-clear",
   "metadata": {},
   "source": [
    "cifar10에 VGG 저장하기"
   ]
  },
  {
   "cell_type": "markdown",
   "id": "moved-dividend",
   "metadata": {},
   "source": [
    "## VGG for cifar10"
   ]
  },
  {
   "cell_type": "code",
   "execution_count": 27,
   "id": "moral-talent",
   "metadata": {},
   "outputs": [],
   "source": [
    "import torch"
   ]
  },
  {
   "cell_type": "code",
   "execution_count": 11,
   "id": "rubber-amsterdam",
   "metadata": {},
   "outputs": [],
   "source": [
    "import torch.nn as nn\n",
    "\n",
    "import torch.optim as optim\n",
    "\n",
    "import torchvision\n",
    "import torchvision.transforms as transforms"
   ]
  },
  {
   "cell_type": "code",
   "execution_count": 24,
   "id": "interested-purpose",
   "metadata": {},
   "outputs": [
    {
     "name": "stderr",
     "output_type": "stream",
     "text": [
      "Setting up a new session...\n"
     ]
    },
    {
     "data": {
      "text/plain": [
       "''"
      ]
     },
     "execution_count": 24,
     "metadata": {},
     "output_type": "execute_result"
    }
   ],
   "source": [
    "import visdom\n",
    "\n",
    "vis = visdom.Visdom()\n",
    "vis.close(env=\"main\")"
   ]
  },
  {
   "cell_type": "code",
   "execution_count": 25,
   "id": "african-organization",
   "metadata": {},
   "outputs": [],
   "source": [
    "def loss_tracker(loss_plot, loss_value, num):\n",
    "    '''num, loss_value, are Tensor'''\n",
    "    vis.line(X=num,\n",
    "             Y=loss_value,\n",
    "             win = loss_plot,\n",
    "             update='append'\n",
    "             )"
   ]
  },
  {
   "cell_type": "code",
   "execution_count": 36,
   "id": "protecting-maximum",
   "metadata": {},
   "outputs": [],
   "source": [
    "device = 'cuda' if torch.cuda.is_available() else 'cpu'\n",
    "\n",
    "torch.manual_seed(777)\n",
    "if device =='cuda':\n",
    "    torch.cuda.manual_seed_all(777)"
   ]
  },
  {
   "cell_type": "code",
   "execution_count": 37,
   "id": "incorrect-figure",
   "metadata": {},
   "outputs": [
    {
     "name": "stdout",
     "output_type": "stream",
     "text": [
      "Downloading https://www.cs.toronto.edu/~kriz/cifar-10-python.tar.gz to ./cifar10\\cifar-10-python.tar.gz\n"
     ]
    },
    {
     "data": {
      "application/vnd.jupyter.widget-view+json": {
       "model_id": "831f3789a0d746a594a267b5f25ff065",
       "version_major": 2,
       "version_minor": 0
      },
      "text/plain": [
       "  0%|          | 0/170498071 [00:00<?, ?it/s]"
      ]
     },
     "metadata": {},
     "output_type": "display_data"
    },
    {
     "name": "stdout",
     "output_type": "stream",
     "text": [
      "Extracting ./cifar10\\cifar-10-python.tar.gz to ./cifar10\n",
      "Files already downloaded and verified\n"
     ]
    }
   ],
   "source": [
    "transform = transforms.Compose(\n",
    "    [transforms.ToTensor(),\n",
    "     transforms.Normalize((0.5, 0.5, 0.5), (0.5, 0.5, 0.5))])\n",
    "\n",
    "trainset = torchvision.datasets.CIFAR10(root='./cifar10', train=True,\n",
    "                                        download=True, transform=transform)\n",
    "trainloader = torch.utils.data.DataLoader(trainset, batch_size=512, # batch_size 512로 바꾸어 줌\n",
    "                                          shuffle=True, num_workers=0)\n",
    "\n",
    "testset = torchvision.datasets.CIFAR10(root='./cifar10', train=False,\n",
    "                                       download=True, transform=transform)\n",
    "\n",
    "testloader = torch.utils.data.DataLoader(testset, batch_size=4,\n",
    "                                         shuffle=False, num_workers=0)\n",
    "\n",
    "classes = ('plane', 'car', 'bird', 'cat',\n",
    "           'deer', 'dog', 'frog', 'horse', 'ship', 'truck')"
   ]
  },
  {
   "cell_type": "code",
   "execution_count": 39,
   "id": "foster-midwest",
   "metadata": {},
   "outputs": [
    {
     "name": "stdout",
     "output_type": "stream",
     "text": [
      " ship horse  bird  frog\n"
     ]
    }
   ],
   "source": [
    "import matplotlib.pyplot as plt\n",
    "import numpy as np\n",
    "%matplotlib inline\n",
    "# functions to show an image\n",
    "\n",
    "\n",
    "def imshow(img):\n",
    "    img = img / 2 + 0.5     # unnormalize\n",
    "    npimg = img.numpy()\n",
    "    plt.imshow(np.transpose(npimg, (1, 2, 0)))\n",
    "    plt.show()\n",
    "\n",
    "\n",
    "# get some random training images\n",
    "dataiter = iter(trainloader)\n",
    "images, labels = dataiter.next()\n",
    "vis.images(images/2 + 0.5)\n",
    "\n",
    "# show images\n",
    "#imshow(torchvision.utils.make_grid(images))\n",
    "\n",
    "# print labels\n",
    "print(' '.join('%5s' % classes[labels[j]] for j in range(4)))"
   ]
  },
  {
   "cell_type": "markdown",
   "id": "above-preservation",
   "metadata": {},
   "source": [
    "vis.image를 띄우고 visdom local host에 접속하면 그림이 뜬다.\n",
    "</br> batch_size가 512라서 512개의 이미지가 나온다."
   ]
  },
  {
   "cell_type": "markdown",
   "id": "sublime-sapphire",
   "metadata": {},
   "source": [
    "## make VGG16 using vgg.py"
   ]
  },
  {
   "cell_type": "markdown",
   "id": "arctic-voice",
   "metadata": {},
   "source": [
    "vgg를 import해서 쓰기 </br>\n",
    "vgg.py 폴더에다가 바로 넣었기 때문에 import vgg 함"
   ]
  },
  {
   "cell_type": "code",
   "execution_count": 50,
   "id": "dedicated-assistant",
   "metadata": {},
   "outputs": [],
   "source": [
    "import torchvision.models.vgg as vgg\n",
    "#import torchvision.models.vgg as vgg"
   ]
  },
  {
   "cell_type": "code",
   "execution_count": 51,
   "id": "eight-powell",
   "metadata": {},
   "outputs": [],
   "source": [
    "cfg = [32,32,'M', 64,64,128,128,128,'M',256,256,256,512,512,512,'M'] #13 + 3 = vgg16\n",
    "# convolution의 개수가 13개\n",
    "# classifier 3개\n",
    "# 도합 16개"
   ]
  },
  {
   "cell_type": "code",
   "execution_count": 52,
   "id": "signed-spouse",
   "metadata": {},
   "outputs": [],
   "source": [
    "class VGG(nn.Module):\n",
    "\n",
    "    def __init__(self, features, num_classes=1000, init_weights=True):\n",
    "        super(VGG, self).__init__()\n",
    "        self.features = features\n",
    "        #self.avgpool = nn.AdaptiveAvgPool2d((7, 7))\n",
    "        #AdaptiveAvgPool2d 같은 경우:\n",
    "            # 내 이미지가 (7,7)보다 크면 상관없음\n",
    "            # 작게 되면, 당연히 안 쓰는 것이 좋음\n",
    "            # AdaptiveAvgPool2d -> (7,7)으로 avgerage pooling 맞춰 주는 것\n",
    "            # 여기서는 굳이 쓸 필요 없다\n",
    "        self.classifier = nn.Sequential(\n",
    "            nn.Linear(512 * 4 * 4, 4096),\n",
    "            # 4 by 4로 수정\n",
    "            # 3번의 max pooling 거쳤을 때 나오는 값\n",
    "            # 32x32 -> 16x16 -> 8x8 -> 4x4\n",
    "            nn.ReLU(True),\n",
    "            nn.Dropout(),\n",
    "            nn.Linear(4096, 4096),\n",
    "            nn.ReLU(True),\n",
    "            nn.Dropout(),\n",
    "            nn.Linear(4096, num_classes),\n",
    "        )\n",
    "        if init_weights:\n",
    "            self._initialize_weights()\n",
    "\n",
    "    def forward(self, x):\n",
    "        x = self.features(x)\n",
    "        #x = self.avgpool(x)\n",
    "        x = x.view(x.size(0), -1)\n",
    "        x = self.classifier(x)\n",
    "        return x\n",
    "\n",
    "    def _initialize_weights(self):\n",
    "        for m in self.modules():\n",
    "            if isinstance(m, nn.Conv2d):\n",
    "                nn.init.kaiming_normal_(m.weight, mode='fan_out', nonlinearity='relu')\n",
    "                if m.bias is not None:\n",
    "                    nn.init.constant_(m.bias, 0)\n",
    "            elif isinstance(m, nn.BatchNorm2d):\n",
    "                nn.init.constant_(m.weight, 1)\n",
    "                nn.init.constant_(m.bias, 0)\n",
    "            elif isinstance(m, nn.Linear):\n",
    "                nn.init.normal_(m.weight, 0, 0.01)\n",
    "                nn.init.constant_(m.bias, 0)"
   ]
  },
  {
   "cell_type": "code",
   "execution_count": 53,
   "id": "talented-doctor",
   "metadata": {},
   "outputs": [],
   "source": [
    "vgg16= VGG(vgg.make_layers(cfg),10,True).to(device)"
   ]
  },
  {
   "cell_type": "code",
   "execution_count": 54,
   "id": "fatty-rings",
   "metadata": {},
   "outputs": [
    {
     "name": "stdout",
     "output_type": "stream",
     "text": [
      "tensor([[-0.0295,  0.0148, -0.0163,  0.0298, -0.0314, -0.0222,  0.0085,  0.0126,\n",
      "          0.0215, -0.0167]], grad_fn=<AddmmBackward>)\n"
     ]
    }
   ],
   "source": [
    "a=torch.Tensor(1,3,32,32).to(device)\n",
    "out = vgg16(a)\n",
    "print(out)"
   ]
  },
  {
   "cell_type": "code",
   "execution_count": 55,
   "id": "stock-baseline",
   "metadata": {},
   "outputs": [],
   "source": [
    "criterion = nn.CrossEntropyLoss().to(device)\n",
    "optimizer = torch.optim.SGD(vgg16.parameters(), lr = 0.005,momentum=0.9)\n",
    "\n",
    "lr_sche = optim.lr_scheduler.StepLR(optimizer, step_size=5, gamma=0.9)\n",
    "# learning rate를 계속 고정시키는 것보다, 감소시키면서 학습시키는 것이 좋을 수도 있음.\n",
    "# 보다 정밀한 학습을 위해 learning rate를 계속 감소시키도록 lr_schedular 사용함.\n",
    "\n",
    "# step_size: 다섯 번이 들어가 있는데 아래 스케줄러 스텝을 5번 할 때마다\n",
    "# 지금 있는 learning rate에 0.9를 곱해라."
   ]
  },
  {
   "cell_type": "markdown",
   "id": "standing-sponsorship",
   "metadata": {},
   "source": [
    "## making plot"
   ]
  },
  {
   "cell_type": "code",
   "execution_count": 56,
   "id": "developed-suspension",
   "metadata": {},
   "outputs": [],
   "source": [
    "loss_plt = vis.line(Y=torch.Tensor(1).zero_(),opts=dict(title='loss_tracker', legend=['loss'], showlegend=True))"
   ]
  },
  {
   "cell_type": "markdown",
   "id": "flying-dodge",
   "metadata": {},
   "source": [
    "## training"
   ]
  },
  {
   "cell_type": "code",
   "execution_count": null,
   "id": "broken-newsletter",
   "metadata": {},
   "outputs": [
    {
     "name": "stdout",
     "output_type": "stream",
     "text": [
      "98\n"
     ]
    }
   ],
   "source": [
    "print(len(trainloader))\n",
    "epochs = 50\n",
    "\n",
    "for epoch in range(epochs):  # loop over the dataset multiple times\n",
    "    running_loss = 0.0\n",
    "    lr_sche.step()\n",
    "    for i, data in enumerate(trainloader, 0):\n",
    "        # get the inputs\n",
    "        inputs, labels = data\n",
    "        inputs = inputs.to(device)\n",
    "        labels = labels.to(device)\n",
    "\n",
    "        # zero the parameter gradients\n",
    "        optimizer.zero_grad()\n",
    "\n",
    "        # forward + backward + optimize\n",
    "        outputs = vgg16(inputs)\n",
    "        loss = criterion(outputs, labels)\n",
    "        loss.backward()\n",
    "        optimizer.step()\n",
    "\n",
    "        # print statistics\n",
    "        running_loss += loss.item()\n",
    "        if i % 30 == 29:    # print every 30 mini-batches\n",
    "            loss_tracker(loss_plt, torch.Tensor([running_loss/30]), torch.Tensor([i + epoch*len(trainloader) ]))\n",
    "            print('[%d, %5d] loss: %.3f' %\n",
    "                  (epoch + 1, i + 1, running_loss / 30))\n",
    "            running_loss = 0.0\n",
    "        \n",
    "\n",
    "print('Finished Training')"
   ]
  },
  {
   "cell_type": "code",
   "execution_count": null,
   "id": "distinct-conjunction",
   "metadata": {},
   "outputs": [],
   "source": [
    "dataiter = iter(testloader)\n",
    "images, labels = dataiter.next()\n",
    "\n",
    "# print images\n",
    "imshow(torchvision.utils.make_grid(images))\n",
    "print('GroundTruth: ', ' '.join('%5s' % classes[labels[j]] for j in range(4)))"
   ]
  },
  {
   "cell_type": "code",
   "execution_count": null,
   "id": "square-choice",
   "metadata": {},
   "outputs": [],
   "source": [
    "outputs = vgg16(images.to(device))"
   ]
  },
  {
   "cell_type": "code",
   "execution_count": null,
   "id": "korean-latitude",
   "metadata": {},
   "outputs": [],
   "source": [
    "_, predicted = torch.max(outputs, 1)\n",
    "\n",
    "print('Predicted: ', ' '.join('%5s' % classes[predicted[j]]\n",
    "                              for j in range(4)))"
   ]
  },
  {
   "cell_type": "code",
   "execution_count": null,
   "id": "junior-limitation",
   "metadata": {},
   "outputs": [],
   "source": [
    "\n",
    "correct = 0\n",
    "total = 0\n",
    "\n",
    "with torch.no_grad():\n",
    "    for data in testloader:\n",
    "        images, labels = data\n",
    "        images = images.to(device)\n",
    "        labels = labels.to(device)\n",
    "        outputs = vgg16(images)\n",
    "        \n",
    "        _, predicted = torch.max(outputs.data, 1)\n",
    "        \n",
    "        total += labels.size(0)\n",
    "        \n",
    "        correct += (predicted == labels).sum().item()\n",
    "\n",
    "print('Accuracy of the network on the 10000 test images: %d %%' % (\n",
    "    100 * correct / total))"
   ]
  }
 ],
 "metadata": {
  "kernelspec": {
   "display_name": "Python 3",
   "language": "python",
   "name": "python3"
  },
  "language_info": {
   "codemirror_mode": {
    "name": "ipython",
    "version": 3
   },
   "file_extension": ".py",
   "mimetype": "text/x-python",
   "name": "python",
   "nbconvert_exporter": "python",
   "pygments_lexer": "ipython3",
   "version": "3.8.5"
  }
 },
 "nbformat": 4,
 "nbformat_minor": 5
}
