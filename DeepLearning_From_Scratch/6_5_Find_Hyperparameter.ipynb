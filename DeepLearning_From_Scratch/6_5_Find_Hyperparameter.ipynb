{
 "cells": [
  {
   "cell_type": "markdown",
   "id": "original-picnic",
   "metadata": {},
   "source": [
    "# 6.5 Find Hyperparameter"
   ]
  },
  {
   "cell_type": "markdown",
   "id": "north-brook",
   "metadata": {},
   "source": [
    "## 6.5.1 Validation Data\n",
    "\n",
    "- Train Data: Train / 매개변수 학습\n",
    "- Test Data: Test *to parameter(weight)* / 신경망의 범용 성능 평가\n",
    "    - Overfitting?\n",
    "    - 성능?\n",
    "    - **Hyperparameter 성능 평가 시 사용해서는 안 됨**\n",
    "        - **Hyperparameter Value Overfitting!!**\n",
    "- Validation Data: Test Hyperparameter / 하이퍼파라미터 성능 평가"
   ]
  },
  {
   "cell_type": "markdown",
   "id": "acoustic-moldova",
   "metadata": {},
   "source": [
    "Hyperparameter 조정 시 전용 확인 데이터 필요 - **Validation Data** 이용\n",
    "\n",
    "Hyperparameter의 적절성 평가하는 데이터"
   ]
  },
  {
   "cell_type": "markdown",
   "id": "musical-holmes",
   "metadata": {},
   "source": [
    "```python\n",
    "# MNIST data set을 train/test/validation으로 분류\n",
    "\n",
    "(x_train, t_train), (x_test, t_test) = load_mnist()\n",
    "\n",
    "x_train, t_train = shuffle_dataset(x_train, t_train)\n",
    "validation_rate = 0.20\n",
    "validation_num = int(x_train.shape[0] * validation_rate)\n",
    "\n",
    "x_val = x_train[:validation_num]\n",
    "t_val = t_train[:validation_num]\n",
    "x_train = x_train[validation_num:]\n",
    "t_train = t_train[validation_num:]\n",
    "```"
   ]
  },
  {
   "cell_type": "markdown",
   "id": "ranking-picnic",
   "metadata": {},
   "source": [
    "MNIST Data Set에서 Validation Data 얻는 가장 간단한 방법\n",
    "- 입력 데이터와 정답 레이블 뒤섞음 - 치우쳐 있을지 모르기 때문(오름차순/내림차순 정렬)\n",
    "- 훈련 데이터 중 20% 정도 검증 데이터로 먼저 분리"
   ]
  },
  {
   "cell_type": "markdown",
   "id": "announced-israel",
   "metadata": {},
   "source": [
    "## 6.5.2 Optimize Hyperparameter"
   ]
  },
  {
   "cell_type": "markdown",
   "id": "tight-stability",
   "metadata": {},
   "source": [
    "**하이퍼파라미터의 최적 값이 존재하는 범위 조금씩 줄여나가기**\n",
    "\n",
    "- 대략적인 범위 설정\n",
    "    - 범위에서 무작위로 샘플링(골라냄)\n",
    "    - 그 값으로 정확도 평가\n",
    "- 반복\n",
    "- 최적 값의 범위 좁혀감"
   ]
  },
  {
   "cell_type": "markdown",
   "id": "severe-formula",
   "metadata": {},
   "source": [
    "**효과적인 Search**\n",
    "\n",
    "- *Grid Search* 같은 규칙적 탐색 < 무작위 샘플링 탐색 -> 더 좋은 결과\n",
    "    - since 최종 정확도에 미치는 영향력이 하이퍼파라미터마다 다름\n",
    "\n",
    "- 대략적으로 지정하는 것이 효과적\n",
    "    - log scale로 지정 (10의 거듭제곱 단위로 범위 지정)\n",
    "\n",
    "- epoch 작게, 1회 평가에 걸리는 시간 단축 효과적\n",
    "    - 딥 러닝 학습 하이퍼 파라미터 튜닝 -> 오래 걸림\n",
    "    \n"
   ]
  },
  {
   "cell_type": "markdown",
   "id": "native-lebanon",
   "metadata": {},
   "source": [
    "### Step\n",
    "\n",
    "- Step 0.\n",
    "    - set range of hyperparameter\n",
    "    \n",
    "- Step 1.\n",
    "    - pick some value of hyperparameter at the range\n",
    " \n",
    " - Step 2.\n",
    "     - Train with hyperparameter value that sampled at step 1.\n",
    "     - Validate accuracy with validation date.\n",
    "         - Set Apoch Small!!\n",
    "         \n",
    "- Step 3.\n",
    "    - Repeat Step 1 and Step 2.\n",
    "    - Set small the range of hyperparameter by checking the appoach result.\n",
    "    \n",
    "### Or..\n",
    "\n",
    "use *Bayseian Optimization*"
   ]
  },
  {
   "cell_type": "markdown",
   "id": "unexpected-announcement",
   "metadata": {},
   "source": [
    "## 6.5.3 Code Optimization of Hyperparameter"
   ]
  },
  {
   "cell_type": "markdown",
   "id": "underlying-locator",
   "metadata": {},
   "source": [
    "- 하이퍼파라미터의 검증: 로그 스케일 범위에서 무작위 추출 진행\n",
    "\n",
    "```python\n",
    "weight_decay = 10 ** np.random.uniform(-8, -4)\n",
    "lr = 10 ** np.random.uniform(-6, -2)\n",
    "```"
   ]
  },
  {
   "cell_type": "markdown",
   "id": "entire-unemployment",
   "metadata": {},
   "source": [
    "결과를 확인, 학습이 잘 될 것 같은 값의 범위 관찰하고 범위 좁힘\n",
    "-> 그 다음 축소된 범위로 똑같은 작업 반복"
   ]
  },
  {
   "cell_type": "markdown",
   "id": "surrounded-florida",
   "metadata": {},
   "source": [
    "*if* 10 ** np.random.uniform(-3, 3)\n",
    "-> 0.001 ~ 1,000 (10^(-3) ~ 10^3) 사이에서 무작위 추출 진행한다는 의미"
   ]
  }
 ],
 "metadata": {
  "kernelspec": {
   "display_name": "Python 3",
   "language": "python",
   "name": "python3"
  },
  "language_info": {
   "codemirror_mode": {
    "name": "ipython",
    "version": 3
   },
   "file_extension": ".py",
   "mimetype": "text/x-python",
   "name": "python",
   "nbconvert_exporter": "python",
   "pygments_lexer": "ipython3",
   "version": "3.8.5"
  }
 },
 "nbformat": 4,
 "nbformat_minor": 5
}
