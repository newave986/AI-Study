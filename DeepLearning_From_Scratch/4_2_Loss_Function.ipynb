{
 "cells": [
  {
   "cell_type": "markdown",
   "id": "chicken-player",
   "metadata": {},
   "source": [
    "# Train Neural Network"
   ]
  },
  {
   "cell_type": "markdown",
   "id": "fossil-dressing",
   "metadata": {},
   "source": [
    "- 현재의 상태를 하나의 지표로 표현\n",
    "    - 손실 함수 Loss Function\n",
    "- 지표를 가장 좋게 만들어 주는 가중치 매개변수의 값 탐색"
   ]
  },
  {
   "cell_type": "markdown",
   "id": "linear-hamburg",
   "metadata": {},
   "source": [
    "## Sum of Squares for Error, SSE\n",
    "오차제곱합"
   ]
  },
  {
   "attachments": {
    "dfdf.png": {
     "image/png": "[encoded data removed]"
    }
   },
   "cell_type": "markdown",
   "id": "gorgeous-appointment",
   "metadata": {},
   "source": [
    "![dfdf.png](attachment:dfdf.png)"
   ]
  },
  {
   "cell_type": "code",
   "execution_count": 4,
   "id": "accurate-causing",
   "metadata": {},
   "outputs": [],
   "source": [
    "import numpy as np"
   ]
  },
  {
   "cell_type": "code",
   "execution_count": 5,
   "id": "informational-while",
   "metadata": {},
   "outputs": [],
   "source": [
    "def sum_squares_error(y, t):\n",
    "    return 0.5 * np.sum((y-t)**2)\n",
    "\n",
    "# 인수 y, t는 numpy 배열일 것.\n",
    "# 사진에서 표현된 predicted value yi: y\n",
    "# actual value yi hat: t"
   ]
  },
  {
   "cell_type": "code",
   "execution_count": 7,
   "id": "killing-current",
   "metadata": {},
   "outputs": [
    {
     "data": {
      "text/plain": [
       "0.09750000000000003"
      ]
     },
     "execution_count": 7,
     "metadata": {},
     "output_type": "execute_result"
    }
   ],
   "source": [
    "t = [0, 0, 1, 0, 0, 0, 0, 0, 0, 0] # one-hot 인코딩 된 t값\n",
    "y = [0.1, 0.05, 0.6, 0.0, 0.05, 0.1, 0.0, 0.1, 0.0, 0.0] # 2일 확률이 가장 높다고 추정\n",
    "\n",
    "sum_squares_error(np.array(y), np.array(t))"
   ]
  },
  {
   "cell_type": "code",
   "execution_count": 8,
   "id": "polished-brown",
   "metadata": {},
   "outputs": [
    {
     "data": {
      "text/plain": [
       "0.5975"
      ]
     },
     "execution_count": 8,
     "metadata": {},
     "output_type": "execute_result"
    }
   ],
   "source": [
    "t = [0, 0, 1, 0, 0, 0, 0, 0, 0, 0] # one-hot 인코딩 된 t값\n",
    "y = [0.1, 0.05, 0.1, 0.0, 0.05, 0.1, 0.0, 0.6, 0.0, 0.0] # 7일 확률이 가장 높다고 추정\n",
    "\n",
    "sum_squares_error(np.array(y), np.array(t))"
   ]
  },
  {
   "cell_type": "markdown",
   "id": "limited-router",
   "metadata": {},
   "source": [
    "오차 제곱합이 더 **작은** 첫 번째 추정 결과가 더 정답에 가깝다."
   ]
  },
  {
   "cell_type": "markdown",
   "id": "funny-syntax",
   "metadata": {},
   "source": [
    "## Cross Entropy Error\n",
    "교차 엔트로피 오차"
   ]
  },
  {
   "attachments": {
    "1%20KY8QcvVOz1sdUnVKKhxWyA@2x.png": {
     "image/png": "[encoded data removed]"
    }
   },
   "cell_type": "markdown",
   "id": "approximate-nickname",
   "metadata": {},
   "source": [
    "![1%20KY8QcvVOz1sdUnVKKhxWyA@2x.png](attachment:1%20KY8QcvVOz1sdUnVKKhxWyA@2x.png)"
   ]
  },
  {
   "cell_type": "code",
   "execution_count": 15,
   "id": "sharing-payday",
   "metadata": {},
   "outputs": [],
   "source": [
    "def cross_entropy_error(y, t):\n",
    "    delta = 1e-7\n",
    "    return -np.sum(t * np.log(y + delta))\n",
    "# y, t 는 넘파이 배열"
   ]
  },
  {
   "cell_type": "markdown",
   "id": "textile-source",
   "metadata": {},
   "source": [
    "- *delta value* 더하는 이유\n",
    "    - np.log() 함수에 0 입력 → log(0) 값이 -inf 되어 계산 진행 불가\n",
    "        - 아주 미세한 값 더함 → log(0+): -inf 발생하지 않도록 함"
   ]
  },
  {
   "cell_type": "code",
   "execution_count": 16,
   "id": "czech-tragedy",
   "metadata": {},
   "outputs": [
    {
     "data": {
      "text/plain": [
       "0.510825457099338"
      ]
     },
     "execution_count": 16,
     "metadata": {},
     "output_type": "execute_result"
    }
   ],
   "source": [
    "t = [0, 0, 1, 0, 0, 0, 0, 0, 0, 0] # one-hot 인코딩 된 t값\n",
    "y = [0.1, 0.05, 0.6, 0.0, 0.05, 0.1, 0.0, 0.1, 0.0, 0.0] # 2일 확률이 가장 높다고 추정\n",
    "\n",
    "cross_entropy_error(np.array(y), np.array(t))"
   ]
  },
  {
   "cell_type": "code",
   "execution_count": 17,
   "id": "grand-suspect",
   "metadata": {},
   "outputs": [
    {
     "data": {
      "text/plain": [
       "2.302584092994546"
      ]
     },
     "execution_count": 17,
     "metadata": {},
     "output_type": "execute_result"
    }
   ],
   "source": [
    "t = [0, 0, 1, 0, 0, 0, 0, 0, 0, 0] # one-hot 인코딩 된 t값\n",
    "y = [0.1, 0.05, 0.1, 0.0, 0.05, 0.1, 0.0, 0.6, 0.0, 0.0] # 7일 확률이 가장 높다고 추정\n",
    "\n",
    "cross_entropy_error(np.array(y), np.array(t))"
   ]
  },
  {
   "cell_type": "markdown",
   "id": "attractive-maximum",
   "metadata": {},
   "source": [
    "교차 엔트로피 오차가 더 **작은** 첫 번째 추정 결과가 더 정답에 가깝다."
   ]
  }
 ],
 "metadata": {
  "kernelspec": {
   "display_name": "Python 3",
   "language": "python",
   "name": "python3"
  },
  "language_info": {
   "codemirror_mode": {
    "name": "ipython",
    "version": 3
   },
   "file_extension": ".py",
   "mimetype": "text/x-python",
   "name": "python",
   "nbconvert_exporter": "python",
   "pygments_lexer": "ipython3",
   "version": "3.8.5"
  }
 },
 "nbformat": 4,
 "nbformat_minor": 5
}
