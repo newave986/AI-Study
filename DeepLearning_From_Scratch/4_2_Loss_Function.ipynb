{
 "cells": [
  {
   "cell_type": "markdown",
   "id": "specified-lightning",
   "metadata": {},
   "source": [
    "# Train Neural Network"
   ]
  },
  {
   "cell_type": "code",
   "execution_count": null,
   "id": "premier-importance",
   "metadata": {},
   "outputs": [],
   "source": [
    "- 현재의 상태를 하나의 지표로 표현\n",
    "    - 손실 함수 Loss Function\n",
    "- 지표를 가장 좋게 만들어 주는 가중치 매개변수의 값 탐색\n"
   ]
  },
  {
   "cell_type": "markdown",
   "id": "extraordinary-cement",
   "metadata": {},
   "source": [
    "## Sum of Squares for Error, SSE\n",
    "오차제곱합\n",
    "\n"
   ]
  },
  {
   "cell_type": "markdown",
   "id": "first-intervention",
   "metadata": {},
   "source": []
  },
  {
   "cell_type": "code",
   "execution_count": 1,
   "id": "numerical-result",
   "metadata": {},
   "outputs": [],
   "source": [
    "def sum_squares_error(y, t):\n",
    "    return 0.5 * np.sum((y-t)**2)"
   ]
  },
  {
   "cell_type": "code",
   "execution_count": null,
   "id": "drawn-culture",
   "metadata": {},
   "outputs": [],
   "source": [
    "t = "
   ]
  }
 ],
 "metadata": {
  "kernelspec": {
   "display_name": "Python 3",
   "language": "python",
   "name": "python3"
  },
  "language_info": {
   "codemirror_mode": {
    "name": "ipython",
    "version": 3
   },
   "file_extension": ".py",
   "mimetype": "text/x-python",
   "name": "python",
   "nbconvert_exporter": "python",
   "pygments_lexer": "ipython3",
   "version": "3.8.5"
  }
 },
 "nbformat": 4,
 "nbformat_minor": 5
}
