{
 "cells": [
  {
   "cell_type": "markdown",
   "id": "traditional-civilian",
   "metadata": {},
   "source": [
    "# Chapter 6.2 Weight Initialization"
   ]
  },
  {
   "cell_type": "markdown",
   "id": "consistent-anderson",
   "metadata": {},
   "source": [
    "가중치의 초깃값을 무엇으로 설정하느냐 - 신경망 학습의 성패를 가름"
   ]
  },
  {
   "cell_type": "markdown",
   "id": "pharmaceutical-vertical",
   "metadata": {},
   "source": [
    "### Weight Decay\n",
    ": train to minimize weight parameter\n",
    "\n",
    "minimize weight -> minimize overfiting.\n",
    "오버피팅 억제, 범용 성능을 높임\n",
    "\n",
    "- 가중치를 작게 만들고 싶다면, 초깃값도 작은 값에서 시작하는 것이 좋다\n",
    "\n",
    "```python\n",
    "0.01 * np.random.randn(10, 100)\n",
    "```\n",
    "\n",
    "이처럼 지금까지 가중치의 초깃값: 정규분포에서 생성되는 값 * 0.01 (표준편차가 0.01인 정규 분포)"
   ]
  },
  {
   "cell_type": "markdown",
   "id": "spiritual-horizontal",
   "metadata": {},
   "source": [
    "## 6.2.1 If Weight Initialization is 0\n",
    "\n",
    "Bad Idea. The training is not getting well.\n",
    "\n",
    "- **가중치를 균일한 값으로 설정하면 안 됨**\n",
    "    - Back Propagation에서 모든 가중치의 값이 똑같이 갱신되기 때문."
   ]
  },
  {
   "cell_type": "markdown",
   "id": "differential-lemon",
   "metadata": {},
   "source": [
    "Foward Propagation: 두 번째 층의 뉴런에 *모두 같은 값*이 전달됨\n",
    "\n",
    "== BackPropagation: 두 번째 층의 가중치가 *모두 똑같이 갱신된다*는 말이 됨\n",
    "\n",
    "--> 가중치들은 같은 초깃값에서 시작, *갱신을 거쳐도 같은 값 유지*\n",
    "\n",
    "가중치가 고르게 생성되는 상황 막기 위해 초기값 무작위 설정"
   ]
  },
  {
   "cell_type": "markdown",
   "id": "lightweight-accounting",
   "metadata": {},
   "source": [
    "## 6.2.2 Activation Rate on Hidden Layer"
   ]
  },
  {
   "cell_type": "markdown",
   "id": "adapted-solution",
   "metadata": {},
   "source": [
    "가중치의 초깃값 -> 은닉층의 활성화 값(활성화 함수의 출력 데이터) 변화"
   ]
  },
  {
   "cell_type": "code",
   "execution_count": 3,
   "id": "oriented-warning",
   "metadata": {},
   "outputs": [],
   "source": [
    "import numpy as np\n",
    "import matplotlib.pyplot as plt\n",
    "\n",
    "def sigmoid(x):\n",
    "    return 1 / (1 + np.exp(-x))\n",
    "# sigmoid function as activation func\n",
    "\n",
    "x = np.random.randn(1000, 100) # input data - 1,000 random data\n",
    "node_num = 100 # n of each layer - 100\n",
    "hidden_layer_size = 5 # 5 layer neural network\n",
    "activations = {}\n",
    "\n",
    "for i in range(hidden_layer_size):\n",
    "    if i != 0:\n",
    "        x = activations[i-1]\n",
    "        \n",
    "    w = np.random.randn(node_num, node_num) * 1 \n",
    "    # * 1 -> 표준 편차가 1인 정규 분포\n",
    "    a = np.dot(x, w)\n",
    "    z = sigmoid(a)\n",
    "    activations[i] = z\n",
    "    # store the result of the activation one to activations"
   ]
  },
  {
   "cell_type": "markdown",
   "id": "insured-gentleman",
   "metadata": {},
   "source": [
    "목표: 분포 정도 (표준편차) 바꾸어 가며 활성화값들 분포 변화를 관찰하는 것"
   ]
  },
  {
   "cell_type": "code",
   "execution_count": 4,
   "id": "thorough-minister",
   "metadata": {},
   "outputs": [
    {
     "data": {
      "text/plain": [
       "<function matplotlib.pyplot.show(close=None, block=None)>"
      ]
     },
     "execution_count": 4,
     "metadata": {},
     "output_type": "execute_result"
    },
    {
     "data": {
      "image/png": "[encoded data removed]",
      "text/plain": [
       "<Figure size 432x288 with 5 Axes>"
      ]
     },
     "metadata": {
      "needs_background": "light"
     },
     "output_type": "display_data"
    }
   ],
   "source": [
    "for i, a in activations.items():\n",
    "    plt.subplot(1, len(activations), i+1)\n",
    "    plt.title(str(i+1) + \"-layer\")\n",
    "    plt.hist(a.flatten(), 30, range=(0,1))\n",
    "    \n",
    "plt.show"
   ]
  },
  {
   "cell_type": "markdown",
   "id": "bored-joseph",
   "metadata": {},
   "source": [
    "각 층 활성화값 -> 0, 1에 치우쳐 분포\n",
    "\n",
    "sigmoid function: div -> 1 (if the output -> 0 or -> 1)\n",
    "\n",
    "데이터 0/1 치우쳐 분포 -> backpropagation gradient value 작아지다가 사라짐 -> **gradient vanishing**"
   ]
  },
  {
   "cell_type": "code",
   "execution_count": 9,
   "id": "mechanical-effect",
   "metadata": {},
   "outputs": [
    {
     "data": {
      "text/plain": [
       "<function matplotlib.pyplot.show(close=None, block=None)>"
      ]
     },
     "execution_count": 9,
     "metadata": {},
     "output_type": "execute_result"
    },
    {
     "data": {
      "image/png": "[encoded data removed]",
      "text/plain": [
       "<Figure size 432x288 with 5 Axes>"
      ]
     },
     "metadata": {
      "needs_background": "light"
     },
     "output_type": "display_data"
    }
   ],
   "source": [
    "for i in range(hidden_layer_size):\n",
    "    if i != 0:\n",
    "        x = activations[i-1]\n",
    "        \n",
    "    # 표준 편차 0.01로 바꾸어 실험 반복\n",
    "    w = np.random.randn(node_num, node_num) * 0.01\n",
    "\n",
    "    a = np.dot(x, w)\n",
    "    z = sigmoid(a)\n",
    "    activations[i] = z\n",
    "    # store the result of the activation one to activations\n",
    "\n",
    "for i, a in activations.items():\n",
    "    plt.subplot(1, len(activations), i+1)\n",
    "    plt.title(str(i+1) + \"-layer\")\n",
    "    plt.hist(a.flatten(), 30, range=(0,1))\n",
    "    \n",
    "plt.show"
   ]
  },
  {
   "cell_type": "markdown",
   "id": "piano-idaho",
   "metadata": {},
   "source": [
    "표준편차 0.5에 집중 -> 기울기 소실 문제는 일어나지 않으나 다른 문제 발생(표현력 제한)\n",
    "\n",
    "다수의 뉴런 같은 값 출력 -> 뉴런 여러 개 둔 의미 없어짐"
   ]
  },
  {
   "cell_type": "markdown",
   "id": "analyzed-basket",
   "metadata": {},
   "source": [
    "**바람직한 각 층 활성화값의 분포**\n",
    "\n",
    "- 적당히 고루 분포될 것.\n",
    "\n",
    "- 층과 층 사이 적당하게 다양한 데이터가 흐르게 할 것.\n",
    "    - 학습이 효율적으로 이루어짐\n",
    "\n",
    "- 치우친 데이터가 흐르지 않도록 할 것.\n",
    "    - 학습이 제대로 이루어지지 않음"
   ]
  },
  {
   "cell_type": "markdown",
   "id": "pacific-conspiracy",
   "metadata": {},
   "source": [
    "### Using *Xavier* Initial Value\n",
    "\n",
    ": 초깃값의 표준 편차가 *(1/n)^(1/2)* 되도록 설정\n",
    "\n",
    "앞의 노드가 *n* 개라면, 표준 편차가 *(1/n)^(1/2)* 인 분포를 이끌면 됨"
   ]
  },
  {
   "cell_type": "markdown",
   "id": "according-patient",
   "metadata": {},
   "source": [
    "앞 층에 노드가 많을수록 대상 노드의 초깃값으로 설정하는 가중치가 좁게 퍼짐"
   ]
  },
  {
   "cell_type": "code",
   "execution_count": 11,
   "id": "approved-class",
   "metadata": {},
   "outputs": [
    {
     "data": {
      "text/plain": [
       "<function matplotlib.pyplot.show(close=None, block=None)>"
      ]
     },
     "execution_count": 11,
     "metadata": {},
     "output_type": "execute_result"
    },
    {
     "data": {
      "image/png": "[encoded data removed]",
      "text/plain": [
       "<Figure size 432x288 with 5 Axes>"
      ]
     },
     "metadata": {
      "needs_background": "light"
     },
     "output_type": "display_data"
    }
   ],
   "source": [
    "node_num = 100\n",
    "\n",
    "for i in range(hidden_layer_size):\n",
    "    if i != 0:\n",
    "        x = activations[i-1]\n",
    "        \n",
    "    # Xavier 초깃값을 이용함\n",
    "    w = np.random.randn(node_num, node_num) / np.sqrt(node_num)\n",
    "\n",
    "    a = np.dot(x, w)\n",
    "    z = sigmoid(a)\n",
    "    activations[i] = z\n",
    "    # store the result of the activation one to activations\n",
    "\n",
    "for i, a in activations.items():\n",
    "    plt.subplot(1, len(activations), i+1)\n",
    "    plt.title(str(i+1) + \"-layer\")\n",
    "    plt.hist(a.flatten(), 30, range=(0,1))\n",
    "    \n",
    "plt.show"
   ]
  },
  {
   "cell_type": "markdown",
   "id": "practical-attraction",
   "metadata": {},
   "source": [
    "## 6.2.3 ReLU 이용할 때의 가중치 초깃값"
   ]
  },
  {
   "cell_type": "markdown",
   "id": "structural-maple",
   "metadata": {},
   "source": [
    "*Xavier*: Activation Function이 Linear인 것이 전제 (Sigmoid, Tanh)\n",
    "    \n",
    "but, using ReLU, ReLU에 특화된 초깃값 이용하는 것 권장 - **He Initializaion**\n",
    "\n",
    ": 초깃값의 표준 편차가 *(2/n)^(1/2)* 되도록 설정\n",
    "\n",
    "앞의 노드가 *n* 개라면, 표준 편차가 *(2/n)^(1/2)* 인 분포를 이끌면 됨"
   ]
  },
  {
   "cell_type": "markdown",
   "id": "color-disease",
   "metadata": {},
   "source": [
    "ReLU < 0 -> 0: 더 넓게 분포시키기 위해 2배의 계수 필요"
   ]
  },
  {
   "cell_type": "code",
   "execution_count": 15,
   "id": "later-bobby",
   "metadata": {},
   "outputs": [],
   "source": [
    "def ReLU(x):\n",
    "    return np.maximum(0, x)"
   ]
  },
  {
   "cell_type": "code",
   "execution_count": 32,
   "id": "twelve-tournament",
   "metadata": {},
   "outputs": [],
   "source": [
    "x = np.random.randn(1000, 100) # input data - 1,000 random data\n",
    "node_num = 100 # n of each layer - 100\n",
    "hidden_layer_size = 5 # 5 layer neural network\n",
    "activations = {}"
   ]
  },
  {
   "cell_type": "code",
   "execution_count": 23,
   "id": "young-explorer",
   "metadata": {},
   "outputs": [
    {
     "data": {
      "text/plain": [
       "<function matplotlib.pyplot.show(close=None, block=None)>"
      ]
     },
     "execution_count": 23,
     "metadata": {},
     "output_type": "execute_result"
    },
    {
     "data": {
      "image/png": "[encoded data removed]",
      "text/plain": [
       "<Figure size 432x288 with 5 Axes>"
      ]
     },
     "metadata": {
      "needs_background": "light"
     },
     "output_type": "display_data"
    }
   ],
   "source": [
    "for i in range(hidden_layer_size):\n",
    "    if i != 0:\n",
    "        x = activations[i-1]\n",
    "        \n",
    "    # 표준 편차 0.01로 바꾸어 실험 반복\n",
    "    w = np.random.randn(node_num, node_num) * 0.01\n",
    "\n",
    "    a = np.dot(x, w)\n",
    "    z = ReLU(a)\n",
    "    activations[i] = z\n",
    "    # store the result of the activation one to activations\n",
    "\n",
    "for i, a in activations.items():\n",
    "    plt.subplot(1, len(activations), i+1)\n",
    "    plt.title(str(i+1) + \"-layer\")\n",
    "    plt.hist(a.flatten(), 30, range=(0,1))\n",
    "    \n",
    "plt.show"
   ]
  },
  {
   "cell_type": "code",
   "execution_count": 30,
   "id": "possible-catering",
   "metadata": {},
   "outputs": [
    {
     "data": {
      "text/plain": [
       "<function matplotlib.pyplot.show(close=None, block=None)>"
      ]
     },
     "execution_count": 30,
     "metadata": {},
     "output_type": "execute_result"
    },
    {
     "data": {
      "image/png": "[encoded data removed]",
      "text/plain": [
       "<Figure size 432x288 with 5 Axes>"
      ]
     },
     "metadata": {
      "needs_background": "light"
     },
     "output_type": "display_data"
    }
   ],
   "source": [
    "for i in range(hidden_layer_size):\n",
    "    if i != 0:\n",
    "        x = activations[i-1]\n",
    "        \n",
    "    # Xavier 초깃값을 이용함\n",
    "    w = np.random.randn(node_num, node_num) * np.sqrt(1.0 / node_num)\n",
    "\n",
    "    a = np.dot(x, w)\n",
    "    z = ReLU(a)\n",
    "    activations[i] = z\n",
    "    # store the result of the activation one to activations\n",
    "\n",
    "for i, a in activations.items():\n",
    "    plt.subplot(1, len(activations), i+1)\n",
    "    plt.title(str(i+1) + \"-layer\")\n",
    "    plt.hist(a.flatten(), 30, range=(0,1))\n",
    "    \n",
    "plt.show"
   ]
  },
  {
   "cell_type": "code",
   "execution_count": 33,
   "id": "alone-tract",
   "metadata": {},
   "outputs": [
    {
     "data": {
      "text/plain": [
       "<function matplotlib.pyplot.show(close=None, block=None)>"
      ]
     },
     "execution_count": 33,
     "metadata": {},
     "output_type": "execute_result"
    },
    {
     "data": {
      "image/png": "[encoded data removed]",
      "text/plain": [
       "<Figure size 432x288 with 5 Axes>"
      ]
     },
     "metadata": {
      "needs_background": "light"
     },
     "output_type": "display_data"
    }
   ],
   "source": [
    "for i in range(hidden_layer_size):\n",
    "    if i != 0:\n",
    "        x = activations[i-1]\n",
    "        \n",
    "    # Xavier 초깃값을 이용함\n",
    "    w = np.random.randn(node_num, node_num) * np.sqrt(2.0 / node_num)\n",
    "\n",
    "    a = np.dot(x, w)\n",
    "    z = ReLU(a)\n",
    "    activations[i] = z\n",
    "    # store the result of the activation one to activations\n",
    "\n",
    "for i, a in activations.items():\n",
    "    plt.subplot(1, len(activations), i+1)\n",
    "    plt.title(str(i+1) + \"-layer\")\n",
    "    plt.hist(a.flatten(), 30, range=(0,1))\n",
    "    \n",
    "plt.show"
   ]
  },
  {
   "cell_type": "markdown",
   "id": "elder-graph",
   "metadata": {},
   "source": [
    "## 6.2.4 MNIST DATA SET - compare initial weight"
   ]
  },
  {
   "cell_type": "markdown",
   "id": "wrong-football",
   "metadata": {},
   "source": [
    "https://github.com/oreilly-japan/deep-learning-from-scratch/blob/master/ch06/weight_init_compare.py"
   ]
  }
 ],
 "metadata": {
  "kernelspec": {
   "display_name": "Python 3",
   "language": "python",
   "name": "python3"
  },
  "language_info": {
   "codemirror_mode": {
    "name": "ipython",
    "version": 3
   },
   "file_extension": ".py",
   "mimetype": "text/x-python",
   "name": "python",
   "nbconvert_exporter": "python",
   "pygments_lexer": "ipython3",
   "version": "3.8.5"
  }
 },
 "nbformat": 4,
 "nbformat_minor": 5
}
